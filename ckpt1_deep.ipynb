{
  "nbformat": 4,
  "nbformat_minor": 0,
  "metadata": {
    "colab": {
      "name": "ckpt1_deep.ipynb",
      "provenance": [],
      "collapsed_sections": []
    },
    "kernelspec": {
      "name": "python3",
      "display_name": "Python 3"
    },
    "language_info": {
      "name": "python"
    }
  },
  "cells": [
    {
      "cell_type": "markdown",
      "source": [
        "# Importações"
      ],
      "metadata": {
        "id": "IhqigpzEXW0L"
      }
    },
    {
      "cell_type": "markdown",
      "source": [
        "- Importação das bibliotecas que utilizaremos no case "
      ],
      "metadata": {
        "id": "zhVbho2eXymg"
      }
    },
    {
      "cell_type": "code",
      "execution_count": 1,
      "metadata": {
        "id": "tElWc7x-mpKP"
      },
      "outputs": [],
      "source": [
        "import pandas as pd\n",
        "import numpy as np\n",
        "from sklearn.neighbors import KNeighborsClassifier"
      ]
    },
    {
      "cell_type": "markdown",
      "source": [
        "- Criação do dataframe e inserção do nome das colunas"
      ],
      "metadata": {
        "id": "ieIvkdTGX_-1"
      }
    },
    {
      "cell_type": "code",
      "source": [
        "df = pd.read_csv(\"breast-cancer.data\",  names= ['Class', \n",
        "                                                'Age', \n",
        "                                                'Menopause',\n",
        "                                                'Tumor_size', \n",
        "                                                'Inv_nodes', \n",
        "                                                'Node_caps', \n",
        "                                                'Deg_malig', \n",
        "                                                'Breast', \n",
        "                                                'Breast_quad', \n",
        "                                                'Irradiant'])"
      ],
      "metadata": {
        "id": "IGS6FSvuYDma"
      },
      "execution_count": 2,
      "outputs": []
    },
    {
      "cell_type": "markdown",
      "source": [
        "# Tratamento dos dados"
      ],
      "metadata": {
        "id": "zs7G9BBWZORu"
      }
    },
    {
      "cell_type": "markdown",
      "source": [
        "- Ordenamos o datframe por idade reorganizando as colunas para que a amostra de treino tenha tanto recorrencia e não-recorrencia"
      ],
      "metadata": {
        "id": "-Po2rrnDZ6kE"
      }
    },
    {
      "cell_type": "code",
      "source": [
        "df = df.sort_values('Inv_nodes', ascending= False)\n",
        "df"
      ],
      "metadata": {
        "id": "1KGpkafFHLl4",
        "colab": {
          "base_uri": "https://localhost:8080/",
          "height": 424
        },
        "outputId": "250f206b-4975-47bf-e260-ab561a1aee71"
      },
      "execution_count": 3,
      "outputs": [
        {
          "output_type": "execute_result",
          "data": {
            "text/plain": [
              "                    Class    Age Menopause Tumor_size Inv_nodes Node_caps  \\\n",
              "130  no-recurrence-events  40-49   premeno      35-39      9-11       yes   \n",
              "184  no-recurrence-events  50-59      ge40      30-34      9-11         ?   \n",
              "183  no-recurrence-events  50-59      ge40      30-34      9-11         ?   \n",
              "230     recurrence-events  50-59   premeno      50-54      9-11       yes   \n",
              "233     recurrence-events  70-79      ge40      15-19      9-11         ?   \n",
              "..                    ...    ...       ...        ...       ...       ...   \n",
              "97   no-recurrence-events  60-69      ge40      15-19       0-2        no   \n",
              "98   no-recurrence-events  40-49   premeno      30-34       0-2        no   \n",
              "99   no-recurrence-events  30-39   premeno      25-29       0-2        no   \n",
              "100  no-recurrence-events  40-49      ge40      20-24       0-2        no   \n",
              "143  no-recurrence-events  40-49   premeno      45-49       0-2        no   \n",
              "\n",
              "     Deg_malig Breast Breast_quad Irradiant  \n",
              "130          2  right    right_up       yes  \n",
              "184          3   left    left_low       yes  \n",
              "183          3   left     left_up       yes  \n",
              "230          2  right     left_up        no  \n",
              "233          1   left    left_low       yes  \n",
              "..         ...    ...         ...       ...  \n",
              "97           2  right     left_up        no  \n",
              "98           1   left    right_up        no  \n",
              "99           2   left    left_low        no  \n",
              "100          3   left    left_low        no  \n",
              "143          2   left    left_low       yes  \n",
              "\n",
              "[286 rows x 10 columns]"
            ],
            "text/html": [
              "\n",
              "  <div id=\"df-3c588f55-d808-4d30-8053-e5eb58e7b4b9\">\n",
              "    <div class=\"colab-df-container\">\n",
              "      <div>\n",
              "<style scoped>\n",
              "    .dataframe tbody tr th:only-of-type {\n",
              "        vertical-align: middle;\n",
              "    }\n",
              "\n",
              "    .dataframe tbody tr th {\n",
              "        vertical-align: top;\n",
              "    }\n",
              "\n",
              "    .dataframe thead th {\n",
              "        text-align: right;\n",
              "    }\n",
              "</style>\n",
              "<table border=\"1\" class=\"dataframe\">\n",
              "  <thead>\n",
              "    <tr style=\"text-align: right;\">\n",
              "      <th></th>\n",
              "      <th>Class</th>\n",
              "      <th>Age</th>\n",
              "      <th>Menopause</th>\n",
              "      <th>Tumor_size</th>\n",
              "      <th>Inv_nodes</th>\n",
              "      <th>Node_caps</th>\n",
              "      <th>Deg_malig</th>\n",
              "      <th>Breast</th>\n",
              "      <th>Breast_quad</th>\n",
              "      <th>Irradiant</th>\n",
              "    </tr>\n",
              "  </thead>\n",
              "  <tbody>\n",
              "    <tr>\n",
              "      <th>130</th>\n",
              "      <td>no-recurrence-events</td>\n",
              "      <td>40-49</td>\n",
              "      <td>premeno</td>\n",
              "      <td>35-39</td>\n",
              "      <td>9-11</td>\n",
              "      <td>yes</td>\n",
              "      <td>2</td>\n",
              "      <td>right</td>\n",
              "      <td>right_up</td>\n",
              "      <td>yes</td>\n",
              "    </tr>\n",
              "    <tr>\n",
              "      <th>184</th>\n",
              "      <td>no-recurrence-events</td>\n",
              "      <td>50-59</td>\n",
              "      <td>ge40</td>\n",
              "      <td>30-34</td>\n",
              "      <td>9-11</td>\n",
              "      <td>?</td>\n",
              "      <td>3</td>\n",
              "      <td>left</td>\n",
              "      <td>left_low</td>\n",
              "      <td>yes</td>\n",
              "    </tr>\n",
              "    <tr>\n",
              "      <th>183</th>\n",
              "      <td>no-recurrence-events</td>\n",
              "      <td>50-59</td>\n",
              "      <td>ge40</td>\n",
              "      <td>30-34</td>\n",
              "      <td>9-11</td>\n",
              "      <td>?</td>\n",
              "      <td>3</td>\n",
              "      <td>left</td>\n",
              "      <td>left_up</td>\n",
              "      <td>yes</td>\n",
              "    </tr>\n",
              "    <tr>\n",
              "      <th>230</th>\n",
              "      <td>recurrence-events</td>\n",
              "      <td>50-59</td>\n",
              "      <td>premeno</td>\n",
              "      <td>50-54</td>\n",
              "      <td>9-11</td>\n",
              "      <td>yes</td>\n",
              "      <td>2</td>\n",
              "      <td>right</td>\n",
              "      <td>left_up</td>\n",
              "      <td>no</td>\n",
              "    </tr>\n",
              "    <tr>\n",
              "      <th>233</th>\n",
              "      <td>recurrence-events</td>\n",
              "      <td>70-79</td>\n",
              "      <td>ge40</td>\n",
              "      <td>15-19</td>\n",
              "      <td>9-11</td>\n",
              "      <td>?</td>\n",
              "      <td>1</td>\n",
              "      <td>left</td>\n",
              "      <td>left_low</td>\n",
              "      <td>yes</td>\n",
              "    </tr>\n",
              "    <tr>\n",
              "      <th>...</th>\n",
              "      <td>...</td>\n",
              "      <td>...</td>\n",
              "      <td>...</td>\n",
              "      <td>...</td>\n",
              "      <td>...</td>\n",
              "      <td>...</td>\n",
              "      <td>...</td>\n",
              "      <td>...</td>\n",
              "      <td>...</td>\n",
              "      <td>...</td>\n",
              "    </tr>\n",
              "    <tr>\n",
              "      <th>97</th>\n",
              "      <td>no-recurrence-events</td>\n",
              "      <td>60-69</td>\n",
              "      <td>ge40</td>\n",
              "      <td>15-19</td>\n",
              "      <td>0-2</td>\n",
              "      <td>no</td>\n",
              "      <td>2</td>\n",
              "      <td>right</td>\n",
              "      <td>left_up</td>\n",
              "      <td>no</td>\n",
              "    </tr>\n",
              "    <tr>\n",
              "      <th>98</th>\n",
              "      <td>no-recurrence-events</td>\n",
              "      <td>40-49</td>\n",
              "      <td>premeno</td>\n",
              "      <td>30-34</td>\n",
              "      <td>0-2</td>\n",
              "      <td>no</td>\n",
              "      <td>1</td>\n",
              "      <td>left</td>\n",
              "      <td>right_up</td>\n",
              "      <td>no</td>\n",
              "    </tr>\n",
              "    <tr>\n",
              "      <th>99</th>\n",
              "      <td>no-recurrence-events</td>\n",
              "      <td>30-39</td>\n",
              "      <td>premeno</td>\n",
              "      <td>25-29</td>\n",
              "      <td>0-2</td>\n",
              "      <td>no</td>\n",
              "      <td>2</td>\n",
              "      <td>left</td>\n",
              "      <td>left_low</td>\n",
              "      <td>no</td>\n",
              "    </tr>\n",
              "    <tr>\n",
              "      <th>100</th>\n",
              "      <td>no-recurrence-events</td>\n",
              "      <td>40-49</td>\n",
              "      <td>ge40</td>\n",
              "      <td>20-24</td>\n",
              "      <td>0-2</td>\n",
              "      <td>no</td>\n",
              "      <td>3</td>\n",
              "      <td>left</td>\n",
              "      <td>left_low</td>\n",
              "      <td>no</td>\n",
              "    </tr>\n",
              "    <tr>\n",
              "      <th>143</th>\n",
              "      <td>no-recurrence-events</td>\n",
              "      <td>40-49</td>\n",
              "      <td>premeno</td>\n",
              "      <td>45-49</td>\n",
              "      <td>0-2</td>\n",
              "      <td>no</td>\n",
              "      <td>2</td>\n",
              "      <td>left</td>\n",
              "      <td>left_low</td>\n",
              "      <td>yes</td>\n",
              "    </tr>\n",
              "  </tbody>\n",
              "</table>\n",
              "<p>286 rows × 10 columns</p>\n",
              "</div>\n",
              "      <button class=\"colab-df-convert\" onclick=\"convertToInteractive('df-3c588f55-d808-4d30-8053-e5eb58e7b4b9')\"\n",
              "              title=\"Convert this dataframe to an interactive table.\"\n",
              "              style=\"display:none;\">\n",
              "        \n",
              "  <svg xmlns=\"http://www.w3.org/2000/svg\" height=\"24px\"viewBox=\"0 0 24 24\"\n",
              "       width=\"24px\">\n",
              "    <path d=\"M0 0h24v24H0V0z\" fill=\"none\"/>\n",
              "    <path d=\"M18.56 5.44l.94 2.06.94-2.06 2.06-.94-2.06-.94-.94-2.06-.94 2.06-2.06.94zm-11 1L8.5 8.5l.94-2.06 2.06-.94-2.06-.94L8.5 2.5l-.94 2.06-2.06.94zm10 10l.94 2.06.94-2.06 2.06-.94-2.06-.94-.94-2.06-.94 2.06-2.06.94z\"/><path d=\"M17.41 7.96l-1.37-1.37c-.4-.4-.92-.59-1.43-.59-.52 0-1.04.2-1.43.59L10.3 9.45l-7.72 7.72c-.78.78-.78 2.05 0 2.83L4 21.41c.39.39.9.59 1.41.59.51 0 1.02-.2 1.41-.59l7.78-7.78 2.81-2.81c.8-.78.8-2.07 0-2.86zM5.41 20L4 18.59l7.72-7.72 1.47 1.35L5.41 20z\"/>\n",
              "  </svg>\n",
              "      </button>\n",
              "      \n",
              "  <style>\n",
              "    .colab-df-container {\n",
              "      display:flex;\n",
              "      flex-wrap:wrap;\n",
              "      gap: 12px;\n",
              "    }\n",
              "\n",
              "    .colab-df-convert {\n",
              "      background-color: #E8F0FE;\n",
              "      border: none;\n",
              "      border-radius: 50%;\n",
              "      cursor: pointer;\n",
              "      display: none;\n",
              "      fill: #1967D2;\n",
              "      height: 32px;\n",
              "      padding: 0 0 0 0;\n",
              "      width: 32px;\n",
              "    }\n",
              "\n",
              "    .colab-df-convert:hover {\n",
              "      background-color: #E2EBFA;\n",
              "      box-shadow: 0px 1px 2px rgba(60, 64, 67, 0.3), 0px 1px 3px 1px rgba(60, 64, 67, 0.15);\n",
              "      fill: #174EA6;\n",
              "    }\n",
              "\n",
              "    [theme=dark] .colab-df-convert {\n",
              "      background-color: #3B4455;\n",
              "      fill: #D2E3FC;\n",
              "    }\n",
              "\n",
              "    [theme=dark] .colab-df-convert:hover {\n",
              "      background-color: #434B5C;\n",
              "      box-shadow: 0px 1px 3px 1px rgba(0, 0, 0, 0.15);\n",
              "      filter: drop-shadow(0px 1px 2px rgba(0, 0, 0, 0.3));\n",
              "      fill: #FFFFFF;\n",
              "    }\n",
              "  </style>\n",
              "\n",
              "      <script>\n",
              "        const buttonEl =\n",
              "          document.querySelector('#df-3c588f55-d808-4d30-8053-e5eb58e7b4b9 button.colab-df-convert');\n",
              "        buttonEl.style.display =\n",
              "          google.colab.kernel.accessAllowed ? 'block' : 'none';\n",
              "\n",
              "        async function convertToInteractive(key) {\n",
              "          const element = document.querySelector('#df-3c588f55-d808-4d30-8053-e5eb58e7b4b9');\n",
              "          const dataTable =\n",
              "            await google.colab.kernel.invokeFunction('convertToInteractive',\n",
              "                                                     [key], {});\n",
              "          if (!dataTable) return;\n",
              "\n",
              "          const docLinkHtml = 'Like what you see? Visit the ' +\n",
              "            '<a target=\"_blank\" href=https://colab.research.google.com/notebooks/data_table.ipynb>data table notebook</a>'\n",
              "            + ' to learn more about interactive tables.';\n",
              "          element.innerHTML = '';\n",
              "          dataTable['output_type'] = 'display_data';\n",
              "          await google.colab.output.renderOutput(dataTable, element);\n",
              "          const docLink = document.createElement('div');\n",
              "          docLink.innerHTML = docLinkHtml;\n",
              "          element.appendChild(docLink);\n",
              "        }\n",
              "      </script>\n",
              "    </div>\n",
              "  </div>\n",
              "  "
            ]
          },
          "metadata": {},
          "execution_count": 3
        }
      ]
    },
    {
      "cell_type": "markdown",
      "source": [
        "- Foi feita uma contagem nos lados em que os tumores ocorreram para entender se ouve alguma tendencia"
      ],
      "metadata": {
        "id": "3KF6c1hEapQn"
      }
    },
    {
      "cell_type": "code",
      "source": [
        "valores_interrog = []\n",
        "for coluna in df:\n",
        "  contagem_interrog = len(df.loc[df[coluna]== 'right'])\n",
        "  valores_interrog.append(contagem_interrog)\n",
        "\n",
        "valores_interrog"
      ],
      "metadata": {
        "colab": {
          "base_uri": "https://localhost:8080/"
        },
        "id": "9RlsIN1vyHEO",
        "outputId": "e489d67a-b17c-4e64-a26d-c3013f5e84fb"
      },
      "execution_count": 4,
      "outputs": [
        {
          "output_type": "execute_result",
          "data": {
            "text/plain": [
              "[0, 0, 0, 0, 0, 0, 0, 134, 0, 0]"
            ]
          },
          "metadata": {},
          "execution_count": 4
        }
      ]
    },
    {
      "cell_type": "markdown",
      "source": [
        "- Procuramos valores NaN no dataframe\n"
      ],
      "metadata": {
        "id": "7C_Tl0idaqCJ"
      }
    },
    {
      "cell_type": "code",
      "source": [
        "valores_nan = []\n",
        "for coluna in df:\n",
        "  contagem_nan = len(df.loc[df[coluna]== np.nan])\n",
        "  valores_nan.append(contagem_nan)\n",
        "valores_nan"
      ],
      "metadata": {
        "colab": {
          "base_uri": "https://localhost:8080/"
        },
        "id": "DggTLxRd0_uh",
        "outputId": "a3acc5df-936b-4075-cdaa-5a3861a279cf"
      },
      "execution_count": 5,
      "outputs": [
        {
          "output_type": "execute_result",
          "data": {
            "text/plain": [
              "[0, 0, 0, 0, 0, 0, 0, 0, 0, 0]"
            ]
          },
          "metadata": {},
          "execution_count": 5
        }
      ]
    },
    {
      "cell_type": "markdown",
      "source": [
        "- Procuramos valores Null no dataframe\n"
      ],
      "metadata": {
        "id": "wQCTn9DHarFc"
      }
    },
    {
      "cell_type": "code",
      "source": [
        "valores_none = []\n",
        "for coluna in df:\n",
        "  contagem_none = len(df.loc[df[coluna]== None])\n",
        "  valores_none.append(contagem_none)\n",
        "valores_none"
      ],
      "metadata": {
        "colab": {
          "base_uri": "https://localhost:8080/"
        },
        "id": "j8lb2uz64bOZ",
        "outputId": "a201daa0-ae0d-43ef-e40c-ebd9fe89bd49"
      },
      "execution_count": 6,
      "outputs": [
        {
          "output_type": "execute_result",
          "data": {
            "text/plain": [
              "[0, 0, 0, 0, 0, 0, 0, 0, 0, 0]"
            ]
          },
          "metadata": {},
          "execution_count": 6
        }
      ]
    },
    {
      "cell_type": "markdown",
      "source": [
        "- Fizemos uma varredura nas colunas do dataframe procurando por '?'"
      ],
      "metadata": {
        "id": "9u8GW_6ga4Hv"
      }
    },
    {
      "cell_type": "code",
      "source": [
        "valores_interrog = []\n",
        "for coluna in df:\n",
        "  contagem_interrog = len(df.loc[df[coluna]== '?'])\n",
        "  valores_interrog.append(contagem_interrog)\n",
        "valores_interrog"
      ],
      "metadata": {
        "colab": {
          "base_uri": "https://localhost:8080/"
        },
        "id": "xlvXUnGF7gt0",
        "outputId": "3f403e3c-8bfb-45c4-c61e-c81e6812666c"
      },
      "execution_count": 7,
      "outputs": [
        {
          "output_type": "execute_result",
          "data": {
            "text/plain": [
              "[0, 0, 0, 0, 0, 8, 0, 0, 1, 0]"
            ]
          },
          "metadata": {},
          "execution_count": 7
        }
      ]
    },
    {
      "cell_type": "markdown",
      "source": [
        "- Como obtemos apenas 9 linhas com valores perdidos, decidimos descartar essas linhas, tranformamos os '?' em NaN para facilitar a eliminação das linhas"
      ],
      "metadata": {
        "id": "N3HxJ1xQa641"
      }
    },
    {
      "cell_type": "code",
      "source": [
        "df.drop(df.loc[df['Node_caps']=='?'].index, inplace=True)\n",
        "df.drop(df.loc[df['Breast_quad']=='?'].index, inplace=True)"
      ],
      "metadata": {
        "id": "98a5Uctxsmdl"
      },
      "execution_count": 8,
      "outputs": []
    },
    {
      "cell_type": "markdown",
      "source": [
        "- Verificamos se os valores '?' realmente foram removidos\n"
      ],
      "metadata": {
        "id": "ww2wluzqa9Mh"
      }
    },
    {
      "cell_type": "code",
      "source": [
        "valores_interrog = []\n",
        "for coluna in df:\n",
        "  contagem_interrog = len(df.loc[df[coluna]== '?'])\n",
        "  valores_interrog.append(contagem_interrog)\n",
        "\n",
        "valores_interrog"
      ],
      "metadata": {
        "colab": {
          "base_uri": "https://localhost:8080/"
        },
        "id": "okp09naC_L_W",
        "outputId": "4acaa836-c33c-4722-ab19-1df8e238c273"
      },
      "execution_count": 9,
      "outputs": [
        {
          "output_type": "execute_result",
          "data": {
            "text/plain": [
              "[0, 0, 0, 0, 0, 0, 0, 0, 0, 0]"
            ]
          },
          "metadata": {},
          "execution_count": 9
        }
      ]
    },
    {
      "cell_type": "code",
      "source": [
        "df.tail(25)"
      ],
      "metadata": {
        "colab": {
          "base_uri": "https://localhost:8080/",
          "height": 833
        },
        "id": "q3WIaqDexety",
        "outputId": "bc48a815-6d16-4443-eb98-4d742dd00f20"
      },
      "execution_count": 10,
      "outputs": [
        {
          "output_type": "execute_result",
          "data": {
            "text/plain": [
              "                    Class    Age Menopause Tumor_size Inv_nodes Node_caps  \\\n",
              "77   no-recurrence-events  30-39   premeno      25-29       0-2        no   \n",
              "78   no-recurrence-events  50-59   premeno      25-29       0-2        no   \n",
              "79   no-recurrence-events  40-49   premeno      25-29       0-2        no   \n",
              "80   no-recurrence-events  50-59      ge40      10-14       0-2        no   \n",
              "81   no-recurrence-events  60-69      ge40      10-14       0-2        no   \n",
              "82   no-recurrence-events  60-69      ge40      15-19       0-2        no   \n",
              "83   no-recurrence-events  50-59      ge40      15-19       0-2        no   \n",
              "84   no-recurrence-events  40-49   premeno      20-24       0-2        no   \n",
              "86   no-recurrence-events  60-69      ge40      25-29       0-2        no   \n",
              "101  no-recurrence-events  50-59      ge40      30-34       0-2        no   \n",
              "87   no-recurrence-events  70-79      ge40        0-4       0-2        no   \n",
              "88   no-recurrence-events  50-59      ge40      20-24       0-2        no   \n",
              "89   no-recurrence-events  40-49   premeno      40-44       0-2        no   \n",
              "90   no-recurrence-events  30-39   premeno        0-4       0-2        no   \n",
              "91   no-recurrence-events  50-59      ge40      20-24       0-2        no   \n",
              "92   no-recurrence-events  50-59      ge40      25-29       0-2        no   \n",
              "93   no-recurrence-events  60-69      ge40      20-24       0-2        no   \n",
              "94   no-recurrence-events  50-59   premeno      10-14       0-2        no   \n",
              "95   no-recurrence-events  40-49   premeno      30-34       0-2        no   \n",
              "96   no-recurrence-events  60-69      ge40      30-34       0-2        no   \n",
              "97   no-recurrence-events  60-69      ge40      15-19       0-2        no   \n",
              "98   no-recurrence-events  40-49   premeno      30-34       0-2        no   \n",
              "99   no-recurrence-events  30-39   premeno      25-29       0-2        no   \n",
              "100  no-recurrence-events  40-49      ge40      20-24       0-2        no   \n",
              "143  no-recurrence-events  40-49   premeno      45-49       0-2        no   \n",
              "\n",
              "     Deg_malig Breast Breast_quad Irradiant  \n",
              "77           1   left     central        no  \n",
              "78           2   left    left_low        no  \n",
              "79           2  right     central        no  \n",
              "80           2  right    left_low        no  \n",
              "81           1   left     left_up        no  \n",
              "82           2  right    left_low        no  \n",
              "83           2  right    left_low        no  \n",
              "84           1   left   right_low        no  \n",
              "86           2  right    left_low        no  \n",
              "101          3  right    left_low        no  \n",
              "87           1   left   right_low        no  \n",
              "88           3  right     left_up        no  \n",
              "89           1  right     left_up        no  \n",
              "90           2  right     central        no  \n",
              "91           3   left     left_up        no  \n",
              "92           2  right     left_up        no  \n",
              "93           2  right     left_up        no  \n",
              "94           1   left    left_low        no  \n",
              "95           2  right   right_low        no  \n",
              "96           2   left     left_up        no  \n",
              "97           2  right     left_up        no  \n",
              "98           1   left    right_up        no  \n",
              "99           2   left    left_low        no  \n",
              "100          3   left    left_low        no  \n",
              "143          2   left    left_low       yes  "
            ],
            "text/html": [
              "\n",
              "  <div id=\"df-2620044d-6065-49b6-85b9-abbf23dc6a58\">\n",
              "    <div class=\"colab-df-container\">\n",
              "      <div>\n",
              "<style scoped>\n",
              "    .dataframe tbody tr th:only-of-type {\n",
              "        vertical-align: middle;\n",
              "    }\n",
              "\n",
              "    .dataframe tbody tr th {\n",
              "        vertical-align: top;\n",
              "    }\n",
              "\n",
              "    .dataframe thead th {\n",
              "        text-align: right;\n",
              "    }\n",
              "</style>\n",
              "<table border=\"1\" class=\"dataframe\">\n",
              "  <thead>\n",
              "    <tr style=\"text-align: right;\">\n",
              "      <th></th>\n",
              "      <th>Class</th>\n",
              "      <th>Age</th>\n",
              "      <th>Menopause</th>\n",
              "      <th>Tumor_size</th>\n",
              "      <th>Inv_nodes</th>\n",
              "      <th>Node_caps</th>\n",
              "      <th>Deg_malig</th>\n",
              "      <th>Breast</th>\n",
              "      <th>Breast_quad</th>\n",
              "      <th>Irradiant</th>\n",
              "    </tr>\n",
              "  </thead>\n",
              "  <tbody>\n",
              "    <tr>\n",
              "      <th>77</th>\n",
              "      <td>no-recurrence-events</td>\n",
              "      <td>30-39</td>\n",
              "      <td>premeno</td>\n",
              "      <td>25-29</td>\n",
              "      <td>0-2</td>\n",
              "      <td>no</td>\n",
              "      <td>1</td>\n",
              "      <td>left</td>\n",
              "      <td>central</td>\n",
              "      <td>no</td>\n",
              "    </tr>\n",
              "    <tr>\n",
              "      <th>78</th>\n",
              "      <td>no-recurrence-events</td>\n",
              "      <td>50-59</td>\n",
              "      <td>premeno</td>\n",
              "      <td>25-29</td>\n",
              "      <td>0-2</td>\n",
              "      <td>no</td>\n",
              "      <td>2</td>\n",
              "      <td>left</td>\n",
              "      <td>left_low</td>\n",
              "      <td>no</td>\n",
              "    </tr>\n",
              "    <tr>\n",
              "      <th>79</th>\n",
              "      <td>no-recurrence-events</td>\n",
              "      <td>40-49</td>\n",
              "      <td>premeno</td>\n",
              "      <td>25-29</td>\n",
              "      <td>0-2</td>\n",
              "      <td>no</td>\n",
              "      <td>2</td>\n",
              "      <td>right</td>\n",
              "      <td>central</td>\n",
              "      <td>no</td>\n",
              "    </tr>\n",
              "    <tr>\n",
              "      <th>80</th>\n",
              "      <td>no-recurrence-events</td>\n",
              "      <td>50-59</td>\n",
              "      <td>ge40</td>\n",
              "      <td>10-14</td>\n",
              "      <td>0-2</td>\n",
              "      <td>no</td>\n",
              "      <td>2</td>\n",
              "      <td>right</td>\n",
              "      <td>left_low</td>\n",
              "      <td>no</td>\n",
              "    </tr>\n",
              "    <tr>\n",
              "      <th>81</th>\n",
              "      <td>no-recurrence-events</td>\n",
              "      <td>60-69</td>\n",
              "      <td>ge40</td>\n",
              "      <td>10-14</td>\n",
              "      <td>0-2</td>\n",
              "      <td>no</td>\n",
              "      <td>1</td>\n",
              "      <td>left</td>\n",
              "      <td>left_up</td>\n",
              "      <td>no</td>\n",
              "    </tr>\n",
              "    <tr>\n",
              "      <th>82</th>\n",
              "      <td>no-recurrence-events</td>\n",
              "      <td>60-69</td>\n",
              "      <td>ge40</td>\n",
              "      <td>15-19</td>\n",
              "      <td>0-2</td>\n",
              "      <td>no</td>\n",
              "      <td>2</td>\n",
              "      <td>right</td>\n",
              "      <td>left_low</td>\n",
              "      <td>no</td>\n",
              "    </tr>\n",
              "    <tr>\n",
              "      <th>83</th>\n",
              "      <td>no-recurrence-events</td>\n",
              "      <td>50-59</td>\n",
              "      <td>ge40</td>\n",
              "      <td>15-19</td>\n",
              "      <td>0-2</td>\n",
              "      <td>no</td>\n",
              "      <td>2</td>\n",
              "      <td>right</td>\n",
              "      <td>left_low</td>\n",
              "      <td>no</td>\n",
              "    </tr>\n",
              "    <tr>\n",
              "      <th>84</th>\n",
              "      <td>no-recurrence-events</td>\n",
              "      <td>40-49</td>\n",
              "      <td>premeno</td>\n",
              "      <td>20-24</td>\n",
              "      <td>0-2</td>\n",
              "      <td>no</td>\n",
              "      <td>1</td>\n",
              "      <td>left</td>\n",
              "      <td>right_low</td>\n",
              "      <td>no</td>\n",
              "    </tr>\n",
              "    <tr>\n",
              "      <th>86</th>\n",
              "      <td>no-recurrence-events</td>\n",
              "      <td>60-69</td>\n",
              "      <td>ge40</td>\n",
              "      <td>25-29</td>\n",
              "      <td>0-2</td>\n",
              "      <td>no</td>\n",
              "      <td>2</td>\n",
              "      <td>right</td>\n",
              "      <td>left_low</td>\n",
              "      <td>no</td>\n",
              "    </tr>\n",
              "    <tr>\n",
              "      <th>101</th>\n",
              "      <td>no-recurrence-events</td>\n",
              "      <td>50-59</td>\n",
              "      <td>ge40</td>\n",
              "      <td>30-34</td>\n",
              "      <td>0-2</td>\n",
              "      <td>no</td>\n",
              "      <td>3</td>\n",
              "      <td>right</td>\n",
              "      <td>left_low</td>\n",
              "      <td>no</td>\n",
              "    </tr>\n",
              "    <tr>\n",
              "      <th>87</th>\n",
              "      <td>no-recurrence-events</td>\n",
              "      <td>70-79</td>\n",
              "      <td>ge40</td>\n",
              "      <td>0-4</td>\n",
              "      <td>0-2</td>\n",
              "      <td>no</td>\n",
              "      <td>1</td>\n",
              "      <td>left</td>\n",
              "      <td>right_low</td>\n",
              "      <td>no</td>\n",
              "    </tr>\n",
              "    <tr>\n",
              "      <th>88</th>\n",
              "      <td>no-recurrence-events</td>\n",
              "      <td>50-59</td>\n",
              "      <td>ge40</td>\n",
              "      <td>20-24</td>\n",
              "      <td>0-2</td>\n",
              "      <td>no</td>\n",
              "      <td>3</td>\n",
              "      <td>right</td>\n",
              "      <td>left_up</td>\n",
              "      <td>no</td>\n",
              "    </tr>\n",
              "    <tr>\n",
              "      <th>89</th>\n",
              "      <td>no-recurrence-events</td>\n",
              "      <td>40-49</td>\n",
              "      <td>premeno</td>\n",
              "      <td>40-44</td>\n",
              "      <td>0-2</td>\n",
              "      <td>no</td>\n",
              "      <td>1</td>\n",
              "      <td>right</td>\n",
              "      <td>left_up</td>\n",
              "      <td>no</td>\n",
              "    </tr>\n",
              "    <tr>\n",
              "      <th>90</th>\n",
              "      <td>no-recurrence-events</td>\n",
              "      <td>30-39</td>\n",
              "      <td>premeno</td>\n",
              "      <td>0-4</td>\n",
              "      <td>0-2</td>\n",
              "      <td>no</td>\n",
              "      <td>2</td>\n",
              "      <td>right</td>\n",
              "      <td>central</td>\n",
              "      <td>no</td>\n",
              "    </tr>\n",
              "    <tr>\n",
              "      <th>91</th>\n",
              "      <td>no-recurrence-events</td>\n",
              "      <td>50-59</td>\n",
              "      <td>ge40</td>\n",
              "      <td>20-24</td>\n",
              "      <td>0-2</td>\n",
              "      <td>no</td>\n",
              "      <td>3</td>\n",
              "      <td>left</td>\n",
              "      <td>left_up</td>\n",
              "      <td>no</td>\n",
              "    </tr>\n",
              "    <tr>\n",
              "      <th>92</th>\n",
              "      <td>no-recurrence-events</td>\n",
              "      <td>50-59</td>\n",
              "      <td>ge40</td>\n",
              "      <td>25-29</td>\n",
              "      <td>0-2</td>\n",
              "      <td>no</td>\n",
              "      <td>2</td>\n",
              "      <td>right</td>\n",
              "      <td>left_up</td>\n",
              "      <td>no</td>\n",
              "    </tr>\n",
              "    <tr>\n",
              "      <th>93</th>\n",
              "      <td>no-recurrence-events</td>\n",
              "      <td>60-69</td>\n",
              "      <td>ge40</td>\n",
              "      <td>20-24</td>\n",
              "      <td>0-2</td>\n",
              "      <td>no</td>\n",
              "      <td>2</td>\n",
              "      <td>right</td>\n",
              "      <td>left_up</td>\n",
              "      <td>no</td>\n",
              "    </tr>\n",
              "    <tr>\n",
              "      <th>94</th>\n",
              "      <td>no-recurrence-events</td>\n",
              "      <td>50-59</td>\n",
              "      <td>premeno</td>\n",
              "      <td>10-14</td>\n",
              "      <td>0-2</td>\n",
              "      <td>no</td>\n",
              "      <td>1</td>\n",
              "      <td>left</td>\n",
              "      <td>left_low</td>\n",
              "      <td>no</td>\n",
              "    </tr>\n",
              "    <tr>\n",
              "      <th>95</th>\n",
              "      <td>no-recurrence-events</td>\n",
              "      <td>40-49</td>\n",
              "      <td>premeno</td>\n",
              "      <td>30-34</td>\n",
              "      <td>0-2</td>\n",
              "      <td>no</td>\n",
              "      <td>2</td>\n",
              "      <td>right</td>\n",
              "      <td>right_low</td>\n",
              "      <td>no</td>\n",
              "    </tr>\n",
              "    <tr>\n",
              "      <th>96</th>\n",
              "      <td>no-recurrence-events</td>\n",
              "      <td>60-69</td>\n",
              "      <td>ge40</td>\n",
              "      <td>30-34</td>\n",
              "      <td>0-2</td>\n",
              "      <td>no</td>\n",
              "      <td>2</td>\n",
              "      <td>left</td>\n",
              "      <td>left_up</td>\n",
              "      <td>no</td>\n",
              "    </tr>\n",
              "    <tr>\n",
              "      <th>97</th>\n",
              "      <td>no-recurrence-events</td>\n",
              "      <td>60-69</td>\n",
              "      <td>ge40</td>\n",
              "      <td>15-19</td>\n",
              "      <td>0-2</td>\n",
              "      <td>no</td>\n",
              "      <td>2</td>\n",
              "      <td>right</td>\n",
              "      <td>left_up</td>\n",
              "      <td>no</td>\n",
              "    </tr>\n",
              "    <tr>\n",
              "      <th>98</th>\n",
              "      <td>no-recurrence-events</td>\n",
              "      <td>40-49</td>\n",
              "      <td>premeno</td>\n",
              "      <td>30-34</td>\n",
              "      <td>0-2</td>\n",
              "      <td>no</td>\n",
              "      <td>1</td>\n",
              "      <td>left</td>\n",
              "      <td>right_up</td>\n",
              "      <td>no</td>\n",
              "    </tr>\n",
              "    <tr>\n",
              "      <th>99</th>\n",
              "      <td>no-recurrence-events</td>\n",
              "      <td>30-39</td>\n",
              "      <td>premeno</td>\n",
              "      <td>25-29</td>\n",
              "      <td>0-2</td>\n",
              "      <td>no</td>\n",
              "      <td>2</td>\n",
              "      <td>left</td>\n",
              "      <td>left_low</td>\n",
              "      <td>no</td>\n",
              "    </tr>\n",
              "    <tr>\n",
              "      <th>100</th>\n",
              "      <td>no-recurrence-events</td>\n",
              "      <td>40-49</td>\n",
              "      <td>ge40</td>\n",
              "      <td>20-24</td>\n",
              "      <td>0-2</td>\n",
              "      <td>no</td>\n",
              "      <td>3</td>\n",
              "      <td>left</td>\n",
              "      <td>left_low</td>\n",
              "      <td>no</td>\n",
              "    </tr>\n",
              "    <tr>\n",
              "      <th>143</th>\n",
              "      <td>no-recurrence-events</td>\n",
              "      <td>40-49</td>\n",
              "      <td>premeno</td>\n",
              "      <td>45-49</td>\n",
              "      <td>0-2</td>\n",
              "      <td>no</td>\n",
              "      <td>2</td>\n",
              "      <td>left</td>\n",
              "      <td>left_low</td>\n",
              "      <td>yes</td>\n",
              "    </tr>\n",
              "  </tbody>\n",
              "</table>\n",
              "</div>\n",
              "      <button class=\"colab-df-convert\" onclick=\"convertToInteractive('df-2620044d-6065-49b6-85b9-abbf23dc6a58')\"\n",
              "              title=\"Convert this dataframe to an interactive table.\"\n",
              "              style=\"display:none;\">\n",
              "        \n",
              "  <svg xmlns=\"http://www.w3.org/2000/svg\" height=\"24px\"viewBox=\"0 0 24 24\"\n",
              "       width=\"24px\">\n",
              "    <path d=\"M0 0h24v24H0V0z\" fill=\"none\"/>\n",
              "    <path d=\"M18.56 5.44l.94 2.06.94-2.06 2.06-.94-2.06-.94-.94-2.06-.94 2.06-2.06.94zm-11 1L8.5 8.5l.94-2.06 2.06-.94-2.06-.94L8.5 2.5l-.94 2.06-2.06.94zm10 10l.94 2.06.94-2.06 2.06-.94-2.06-.94-.94-2.06-.94 2.06-2.06.94z\"/><path d=\"M17.41 7.96l-1.37-1.37c-.4-.4-.92-.59-1.43-.59-.52 0-1.04.2-1.43.59L10.3 9.45l-7.72 7.72c-.78.78-.78 2.05 0 2.83L4 21.41c.39.39.9.59 1.41.59.51 0 1.02-.2 1.41-.59l7.78-7.78 2.81-2.81c.8-.78.8-2.07 0-2.86zM5.41 20L4 18.59l7.72-7.72 1.47 1.35L5.41 20z\"/>\n",
              "  </svg>\n",
              "      </button>\n",
              "      \n",
              "  <style>\n",
              "    .colab-df-container {\n",
              "      display:flex;\n",
              "      flex-wrap:wrap;\n",
              "      gap: 12px;\n",
              "    }\n",
              "\n",
              "    .colab-df-convert {\n",
              "      background-color: #E8F0FE;\n",
              "      border: none;\n",
              "      border-radius: 50%;\n",
              "      cursor: pointer;\n",
              "      display: none;\n",
              "      fill: #1967D2;\n",
              "      height: 32px;\n",
              "      padding: 0 0 0 0;\n",
              "      width: 32px;\n",
              "    }\n",
              "\n",
              "    .colab-df-convert:hover {\n",
              "      background-color: #E2EBFA;\n",
              "      box-shadow: 0px 1px 2px rgba(60, 64, 67, 0.3), 0px 1px 3px 1px rgba(60, 64, 67, 0.15);\n",
              "      fill: #174EA6;\n",
              "    }\n",
              "\n",
              "    [theme=dark] .colab-df-convert {\n",
              "      background-color: #3B4455;\n",
              "      fill: #D2E3FC;\n",
              "    }\n",
              "\n",
              "    [theme=dark] .colab-df-convert:hover {\n",
              "      background-color: #434B5C;\n",
              "      box-shadow: 0px 1px 3px 1px rgba(0, 0, 0, 0.15);\n",
              "      filter: drop-shadow(0px 1px 2px rgba(0, 0, 0, 0.3));\n",
              "      fill: #FFFFFF;\n",
              "    }\n",
              "  </style>\n",
              "\n",
              "      <script>\n",
              "        const buttonEl =\n",
              "          document.querySelector('#df-2620044d-6065-49b6-85b9-abbf23dc6a58 button.colab-df-convert');\n",
              "        buttonEl.style.display =\n",
              "          google.colab.kernel.accessAllowed ? 'block' : 'none';\n",
              "\n",
              "        async function convertToInteractive(key) {\n",
              "          const element = document.querySelector('#df-2620044d-6065-49b6-85b9-abbf23dc6a58');\n",
              "          const dataTable =\n",
              "            await google.colab.kernel.invokeFunction('convertToInteractive',\n",
              "                                                     [key], {});\n",
              "          if (!dataTable) return;\n",
              "\n",
              "          const docLinkHtml = 'Like what you see? Visit the ' +\n",
              "            '<a target=\"_blank\" href=https://colab.research.google.com/notebooks/data_table.ipynb>data table notebook</a>'\n",
              "            + ' to learn more about interactive tables.';\n",
              "          element.innerHTML = '';\n",
              "          dataTable['output_type'] = 'display_data';\n",
              "          await google.colab.output.renderOutput(dataTable, element);\n",
              "          const docLink = document.createElement('div');\n",
              "          docLink.innerHTML = docLinkHtml;\n",
              "          element.appendChild(docLink);\n",
              "        }\n",
              "      </script>\n",
              "    </div>\n",
              "  </div>\n",
              "  "
            ]
          },
          "metadata": {},
          "execution_count": 10
        }
      ]
    },
    {
      "cell_type": "markdown",
      "source": [
        "# Análise"
      ],
      "metadata": {
        "id": "lbnyryXifIVq"
      }
    },
    {
      "cell_type": "markdown",
      "source": [
        "- Utilizamos a função unique para verificar se os valores das colunas são contínuos ou categóricos\n"
      ],
      "metadata": {
        "id": "qR1pi7uwa_E5"
      }
    },
    {
      "cell_type": "code",
      "source": [
        "df['Class'].unique()   "
      ],
      "metadata": {
        "colab": {
          "base_uri": "https://localhost:8080/"
        },
        "id": "aNqUII7vnLLL",
        "outputId": "2f1d3464-b576-4f0e-dae0-89caf10b9405"
      },
      "execution_count": 11,
      "outputs": [
        {
          "output_type": "execute_result",
          "data": {
            "text/plain": [
              "array(['no-recurrence-events', 'recurrence-events'], dtype=object)"
            ]
          },
          "metadata": {},
          "execution_count": 11
        }
      ]
    },
    {
      "cell_type": "code",
      "source": [
        "df['Age'].unique()"
      ],
      "metadata": {
        "colab": {
          "base_uri": "https://localhost:8080/"
        },
        "id": "-6BJpTQ6nLR7",
        "outputId": "cec57bbe-ff3c-4510-b586-356cb9115d3a"
      },
      "execution_count": 12,
      "outputs": [
        {
          "output_type": "execute_result",
          "data": {
            "text/plain": [
              "array(['40-49', '50-59', '30-39', '60-69', '70-79', '20-29'], dtype=object)"
            ]
          },
          "metadata": {},
          "execution_count": 12
        }
      ]
    },
    {
      "cell_type": "code",
      "source": [
        "df['Menopause'].unique()"
      ],
      "metadata": {
        "colab": {
          "base_uri": "https://localhost:8080/"
        },
        "id": "RniGtJRPnLYo",
        "outputId": "4e7d0313-54c9-43cd-a384-7e05bef976c7"
      },
      "execution_count": 13,
      "outputs": [
        {
          "output_type": "execute_result",
          "data": {
            "text/plain": [
              "array(['premeno', 'ge40', 'lt40'], dtype=object)"
            ]
          },
          "metadata": {},
          "execution_count": 13
        }
      ]
    },
    {
      "cell_type": "code",
      "source": [
        "df['Tumor_size'].unique()"
      ],
      "metadata": {
        "colab": {
          "base_uri": "https://localhost:8080/"
        },
        "id": "kLBl8a-_nLe1",
        "outputId": "d9b68624-8aca-4348-bf5e-f409bdc8c6aa"
      },
      "execution_count": 14,
      "outputs": [
        {
          "output_type": "execute_result",
          "data": {
            "text/plain": [
              "array(['35-39', '50-54', '30-34', '25-29', '15-19', '20-24', '40-44',\n",
              "       '10-14', '45-49', '0-4', '5-9'], dtype=object)"
            ]
          },
          "metadata": {},
          "execution_count": 14
        }
      ]
    },
    {
      "cell_type": "code",
      "source": [
        "df['Inv_nodes'].unique()"
      ],
      "metadata": {
        "colab": {
          "base_uri": "https://localhost:8080/"
        },
        "id": "fcSZIoAQnLk8",
        "outputId": "6a2d8a08-60df-45e1-937a-dd63218aac6d"
      },
      "execution_count": 15,
      "outputs": [
        {
          "output_type": "execute_result",
          "data": {
            "text/plain": [
              "array(['9-11', '6-8', '3-5', '24-26', '15-17', '12-14', '0-2'],\n",
              "      dtype=object)"
            ]
          },
          "metadata": {},
          "execution_count": 15
        }
      ]
    },
    {
      "cell_type": "code",
      "source": [
        "df['Node_caps'].unique()"
      ],
      "metadata": {
        "colab": {
          "base_uri": "https://localhost:8080/"
        },
        "id": "kwuDLh80pyCm",
        "outputId": "ce9a8c0c-ff57-440e-dec2-3643cbbc614c"
      },
      "execution_count": 16,
      "outputs": [
        {
          "output_type": "execute_result",
          "data": {
            "text/plain": [
              "array(['yes', 'no'], dtype=object)"
            ]
          },
          "metadata": {},
          "execution_count": 16
        }
      ]
    },
    {
      "cell_type": "code",
      "source": [
        "df['Deg_malig'].unique()"
      ],
      "metadata": {
        "colab": {
          "base_uri": "https://localhost:8080/"
        },
        "id": "Q8R_DwHjpyJc",
        "outputId": "3552dce9-ab04-4893-9f9a-90f7123a70d2"
      },
      "execution_count": 17,
      "outputs": [
        {
          "output_type": "execute_result",
          "data": {
            "text/plain": [
              "array([2, 3, 1])"
            ]
          },
          "metadata": {},
          "execution_count": 17
        }
      ]
    },
    {
      "cell_type": "code",
      "source": [
        "df['Breast'].unique()"
      ],
      "metadata": {
        "colab": {
          "base_uri": "https://localhost:8080/"
        },
        "id": "hBFDE6LFpyPV",
        "outputId": "61c4cf32-767d-43dd-e7fe-e89f329d351b"
      },
      "execution_count": 18,
      "outputs": [
        {
          "output_type": "execute_result",
          "data": {
            "text/plain": [
              "array(['right', 'left'], dtype=object)"
            ]
          },
          "metadata": {},
          "execution_count": 18
        }
      ]
    },
    {
      "cell_type": "code",
      "source": [
        "df['Breast_quad'].unique()"
      ],
      "metadata": {
        "colab": {
          "base_uri": "https://localhost:8080/"
        },
        "id": "JCEhBhULpyU2",
        "outputId": "1ac0f072-f6d5-4738-e82c-779f3ab001c0"
      },
      "execution_count": 19,
      "outputs": [
        {
          "output_type": "execute_result",
          "data": {
            "text/plain": [
              "array(['right_up', 'left_up', 'left_low', 'right_low', 'central'],\n",
              "      dtype=object)"
            ]
          },
          "metadata": {},
          "execution_count": 19
        }
      ]
    },
    {
      "cell_type": "code",
      "source": [
        "df['Irradiant'].unique()"
      ],
      "metadata": {
        "colab": {
          "base_uri": "https://localhost:8080/"
        },
        "id": "KFDX14n8pyZy",
        "outputId": "eb9a4edf-a3c2-4e3d-bb8e-6361baa24774"
      },
      "execution_count": 20,
      "outputs": [
        {
          "output_type": "execute_result",
          "data": {
            "text/plain": [
              "array(['yes', 'no'], dtype=object)"
            ]
          },
          "metadata": {},
          "execution_count": 20
        }
      ]
    },
    {
      "cell_type": "markdown",
      "source": [
        "- Criamos a função one_hot para transformar os valores categóricos em vetores\n"
      ],
      "metadata": {
        "id": "keNzNxkbbFkM"
      }
    },
    {
      "cell_type": "code",
      "source": [
        "def one_hot(categ, valor):\n",
        "  categ = list(set(categ))\n",
        "  indice = categ.index(valor)\n",
        "  vetor = np.zeros(len(categ))\n",
        "  vetor[indice] = 1.0\n",
        "  return vetor"
      ],
      "metadata": {
        "id": "e3klpIFMpyes"
      },
      "execution_count": 21,
      "outputs": []
    },
    {
      "cell_type": "markdown",
      "source": [
        "- Utilizamos a função one hot em cada uma das colunas, pois todas possuem dados categóricos \n"
      ],
      "metadata": {
        "id": "4NOF85-lbGSB"
      }
    },
    {
      "cell_type": "code",
      "source": [
        "df.Class = [ one_hot(df.Class, _) for _ in df.Class ]\n",
        "\n",
        "df.Age = [ one_hot(df.Age, _) for _ in df.Age ]\n",
        "\n",
        "df.Menopause = [ one_hot(df.Menopause, _) for _ in df.Menopause ]\n",
        "\n",
        "df.Tumor_size = [ one_hot(df.Tumor_size, _) for _ in df.Tumor_size ]\n",
        "\n",
        "df.Inv_nodes = [ one_hot(df.Inv_nodes, _) for _ in df.Inv_nodes ]\n",
        "\n",
        "df.Node_caps = [ one_hot(df.Node_caps, _) for _ in df.Node_caps ]\n",
        "\n",
        "df.Deg_malig = [ one_hot(df.Deg_malig, _) for _ in df.Deg_malig ]\n",
        "\n",
        "df.Breast = [ one_hot(df.Breast, _) for _ in df.Breast ]\n",
        "\n",
        "df.Breast_quad = [ one_hot(df.Breast_quad, _) for _ in df.Breast_quad ]\n",
        "\n",
        "df.Irradiant = [ one_hot(df.Irradiant, _) for _ in df.Irradiant ]"
      ],
      "metadata": {
        "id": "C7aAcOSUFRbY"
      },
      "execution_count": 23,
      "outputs": []
    },
    {
      "cell_type": "code",
      "source": [
        "df.head(10)"
      ],
      "metadata": {
        "colab": {
          "base_uri": "https://localhost:8080/",
          "height": 363
        },
        "id": "GgUuA9b4FzpF",
        "outputId": "76d3923d-2f2c-496b-a937-c095dd6c379f"
      },
      "execution_count": 24,
      "outputs": [
        {
          "output_type": "execute_result",
          "data": {
            "text/plain": [
              "          Class                             Age        Menopause  \\\n",
              "130  [0.0, 1.0]  [0.0, 0.0, 0.0, 0.0, 1.0, 0.0]  [0.0, 0.0, 1.0]   \n",
              "230  [1.0, 0.0]  [0.0, 0.0, 1.0, 0.0, 0.0, 0.0]  [0.0, 0.0, 1.0]   \n",
              "129  [0.0, 1.0]  [0.0, 0.0, 0.0, 0.0, 1.0, 0.0]  [0.0, 0.0, 1.0]   \n",
              "245  [1.0, 0.0]  [0.0, 0.0, 0.0, 1.0, 0.0, 0.0]  [0.0, 0.0, 1.0]   \n",
              "265  [1.0, 0.0]  [0.0, 0.0, 0.0, 1.0, 0.0, 0.0]  [0.0, 0.0, 1.0]   \n",
              "275  [1.0, 0.0]  [0.0, 0.0, 0.0, 0.0, 1.0, 0.0]  [0.0, 0.0, 1.0]   \n",
              "247  [1.0, 0.0]  [0.0, 0.0, 1.0, 0.0, 0.0, 0.0]  [1.0, 0.0, 0.0]   \n",
              "126  [0.0, 1.0]  [0.0, 0.0, 0.0, 1.0, 0.0, 0.0]  [0.0, 0.0, 1.0]   \n",
              "127  [0.0, 1.0]  [0.0, 0.0, 0.0, 1.0, 0.0, 0.0]  [0.0, 0.0, 1.0]   \n",
              "258  [1.0, 0.0]  [0.0, 0.0, 1.0, 0.0, 0.0, 0.0]  [1.0, 0.0, 0.0]   \n",
              "\n",
              "                                            Tumor_size  \\\n",
              "130  [0.0, 0.0, 0.0, 0.0, 0.0, 0.0, 0.0, 1.0, 0.0, ...   \n",
              "230  [0.0, 0.0, 0.0, 0.0, 0.0, 1.0, 0.0, 0.0, 0.0, ...   \n",
              "129  [0.0, 0.0, 0.0, 0.0, 0.0, 0.0, 0.0, 1.0, 0.0, ...   \n",
              "245  [0.0, 0.0, 0.0, 0.0, 0.0, 0.0, 0.0, 0.0, 1.0, ...   \n",
              "265  [0.0, 0.0, 0.0, 0.0, 0.0, 0.0, 0.0, 1.0, 0.0, ...   \n",
              "275  [0.0, 1.0, 0.0, 0.0, 0.0, 0.0, 0.0, 0.0, 0.0, ...   \n",
              "247  [0.0, 0.0, 0.0, 0.0, 0.0, 0.0, 0.0, 0.0, 1.0, ...   \n",
              "126  [0.0, 0.0, 0.0, 0.0, 0.0, 0.0, 0.0, 0.0, 1.0, ...   \n",
              "127  [0.0, 1.0, 0.0, 0.0, 0.0, 0.0, 0.0, 0.0, 0.0, ...   \n",
              "258  [0.0, 0.0, 0.0, 0.0, 0.0, 0.0, 0.0, 0.0, 1.0, ...   \n",
              "\n",
              "                               Inv_nodes   Node_caps        Deg_malig  \\\n",
              "130  [0.0, 0.0, 0.0, 0.0, 1.0, 0.0, 0.0]  [0.0, 1.0]  [0.0, 1.0, 0.0]   \n",
              "230  [0.0, 0.0, 0.0, 0.0, 1.0, 0.0, 0.0]  [0.0, 1.0]  [0.0, 1.0, 0.0]   \n",
              "129  [0.0, 0.0, 0.0, 0.0, 1.0, 0.0, 0.0]  [0.0, 1.0]  [0.0, 1.0, 0.0]   \n",
              "245  [0.0, 0.0, 0.0, 0.0, 1.0, 0.0, 0.0]  [1.0, 0.0]  [0.0, 1.0, 0.0]   \n",
              "265  [0.0, 0.0, 0.0, 0.0, 1.0, 0.0, 0.0]  [0.0, 1.0]  [0.0, 0.0, 1.0]   \n",
              "275  [0.0, 0.0, 0.0, 0.0, 1.0, 0.0, 0.0]  [0.0, 1.0]  [0.0, 0.0, 1.0]   \n",
              "247  [0.0, 0.0, 0.0, 0.0, 1.0, 0.0, 0.0]  [0.0, 1.0]  [0.0, 0.0, 1.0]   \n",
              "126  [0.0, 0.0, 1.0, 0.0, 0.0, 0.0, 0.0]  [0.0, 1.0]  [0.0, 1.0, 0.0]   \n",
              "127  [0.0, 0.0, 1.0, 0.0, 0.0, 0.0, 0.0]  [0.0, 1.0]  [0.0, 1.0, 0.0]   \n",
              "258  [0.0, 0.0, 1.0, 0.0, 0.0, 0.0, 0.0]  [0.0, 1.0]  [0.0, 1.0, 0.0]   \n",
              "\n",
              "         Breast                Breast_quad   Irradiant  \n",
              "130  [0.0, 1.0]  [0.0, 0.0, 0.0, 1.0, 0.0]  [0.0, 1.0]  \n",
              "230  [0.0, 1.0]  [0.0, 1.0, 0.0, 0.0, 0.0]  [1.0, 0.0]  \n",
              "129  [0.0, 1.0]  [0.0, 1.0, 0.0, 0.0, 0.0]  [0.0, 1.0]  \n",
              "245  [0.0, 1.0]  [0.0, 1.0, 0.0, 0.0, 0.0]  [0.0, 1.0]  \n",
              "265  [1.0, 0.0]  [0.0, 0.0, 0.0, 0.0, 1.0]  [1.0, 0.0]  \n",
              "275  [0.0, 1.0]  [0.0, 1.0, 0.0, 0.0, 0.0]  [1.0, 0.0]  \n",
              "247  [1.0, 0.0]  [1.0, 0.0, 0.0, 0.0, 0.0]  [0.0, 1.0]  \n",
              "126  [0.0, 1.0]  [0.0, 0.0, 0.0, 1.0, 0.0]  [1.0, 0.0]  \n",
              "127  [0.0, 1.0]  [0.0, 1.0, 0.0, 0.0, 0.0]  [0.0, 1.0]  \n",
              "258  [1.0, 0.0]  [1.0, 0.0, 0.0, 0.0, 0.0]  [0.0, 1.0]  "
            ],
            "text/html": [
              "\n",
              "  <div id=\"df-28aac1de-8102-4875-8b32-bb7166b3646c\">\n",
              "    <div class=\"colab-df-container\">\n",
              "      <div>\n",
              "<style scoped>\n",
              "    .dataframe tbody tr th:only-of-type {\n",
              "        vertical-align: middle;\n",
              "    }\n",
              "\n",
              "    .dataframe tbody tr th {\n",
              "        vertical-align: top;\n",
              "    }\n",
              "\n",
              "    .dataframe thead th {\n",
              "        text-align: right;\n",
              "    }\n",
              "</style>\n",
              "<table border=\"1\" class=\"dataframe\">\n",
              "  <thead>\n",
              "    <tr style=\"text-align: right;\">\n",
              "      <th></th>\n",
              "      <th>Class</th>\n",
              "      <th>Age</th>\n",
              "      <th>Menopause</th>\n",
              "      <th>Tumor_size</th>\n",
              "      <th>Inv_nodes</th>\n",
              "      <th>Node_caps</th>\n",
              "      <th>Deg_malig</th>\n",
              "      <th>Breast</th>\n",
              "      <th>Breast_quad</th>\n",
              "      <th>Irradiant</th>\n",
              "    </tr>\n",
              "  </thead>\n",
              "  <tbody>\n",
              "    <tr>\n",
              "      <th>130</th>\n",
              "      <td>[0.0, 1.0]</td>\n",
              "      <td>[0.0, 0.0, 0.0, 0.0, 1.0, 0.0]</td>\n",
              "      <td>[0.0, 0.0, 1.0]</td>\n",
              "      <td>[0.0, 0.0, 0.0, 0.0, 0.0, 0.0, 0.0, 1.0, 0.0, ...</td>\n",
              "      <td>[0.0, 0.0, 0.0, 0.0, 1.0, 0.0, 0.0]</td>\n",
              "      <td>[0.0, 1.0]</td>\n",
              "      <td>[0.0, 1.0, 0.0]</td>\n",
              "      <td>[0.0, 1.0]</td>\n",
              "      <td>[0.0, 0.0, 0.0, 1.0, 0.0]</td>\n",
              "      <td>[0.0, 1.0]</td>\n",
              "    </tr>\n",
              "    <tr>\n",
              "      <th>230</th>\n",
              "      <td>[1.0, 0.0]</td>\n",
              "      <td>[0.0, 0.0, 1.0, 0.0, 0.0, 0.0]</td>\n",
              "      <td>[0.0, 0.0, 1.0]</td>\n",
              "      <td>[0.0, 0.0, 0.0, 0.0, 0.0, 1.0, 0.0, 0.0, 0.0, ...</td>\n",
              "      <td>[0.0, 0.0, 0.0, 0.0, 1.0, 0.0, 0.0]</td>\n",
              "      <td>[0.0, 1.0]</td>\n",
              "      <td>[0.0, 1.0, 0.0]</td>\n",
              "      <td>[0.0, 1.0]</td>\n",
              "      <td>[0.0, 1.0, 0.0, 0.0, 0.0]</td>\n",
              "      <td>[1.0, 0.0]</td>\n",
              "    </tr>\n",
              "    <tr>\n",
              "      <th>129</th>\n",
              "      <td>[0.0, 1.0]</td>\n",
              "      <td>[0.0, 0.0, 0.0, 0.0, 1.0, 0.0]</td>\n",
              "      <td>[0.0, 0.0, 1.0]</td>\n",
              "      <td>[0.0, 0.0, 0.0, 0.0, 0.0, 0.0, 0.0, 1.0, 0.0, ...</td>\n",
              "      <td>[0.0, 0.0, 0.0, 0.0, 1.0, 0.0, 0.0]</td>\n",
              "      <td>[0.0, 1.0]</td>\n",
              "      <td>[0.0, 1.0, 0.0]</td>\n",
              "      <td>[0.0, 1.0]</td>\n",
              "      <td>[0.0, 1.0, 0.0, 0.0, 0.0]</td>\n",
              "      <td>[0.0, 1.0]</td>\n",
              "    </tr>\n",
              "    <tr>\n",
              "      <th>245</th>\n",
              "      <td>[1.0, 0.0]</td>\n",
              "      <td>[0.0, 0.0, 0.0, 1.0, 0.0, 0.0]</td>\n",
              "      <td>[0.0, 0.0, 1.0]</td>\n",
              "      <td>[0.0, 0.0, 0.0, 0.0, 0.0, 0.0, 0.0, 0.0, 1.0, ...</td>\n",
              "      <td>[0.0, 0.0, 0.0, 0.0, 1.0, 0.0, 0.0]</td>\n",
              "      <td>[1.0, 0.0]</td>\n",
              "      <td>[0.0, 1.0, 0.0]</td>\n",
              "      <td>[0.0, 1.0]</td>\n",
              "      <td>[0.0, 1.0, 0.0, 0.0, 0.0]</td>\n",
              "      <td>[0.0, 1.0]</td>\n",
              "    </tr>\n",
              "    <tr>\n",
              "      <th>265</th>\n",
              "      <td>[1.0, 0.0]</td>\n",
              "      <td>[0.0, 0.0, 0.0, 1.0, 0.0, 0.0]</td>\n",
              "      <td>[0.0, 0.0, 1.0]</td>\n",
              "      <td>[0.0, 0.0, 0.0, 0.0, 0.0, 0.0, 0.0, 1.0, 0.0, ...</td>\n",
              "      <td>[0.0, 0.0, 0.0, 0.0, 1.0, 0.0, 0.0]</td>\n",
              "      <td>[0.0, 1.0]</td>\n",
              "      <td>[0.0, 0.0, 1.0]</td>\n",
              "      <td>[1.0, 0.0]</td>\n",
              "      <td>[0.0, 0.0, 0.0, 0.0, 1.0]</td>\n",
              "      <td>[1.0, 0.0]</td>\n",
              "    </tr>\n",
              "    <tr>\n",
              "      <th>275</th>\n",
              "      <td>[1.0, 0.0]</td>\n",
              "      <td>[0.0, 0.0, 0.0, 0.0, 1.0, 0.0]</td>\n",
              "      <td>[0.0, 0.0, 1.0]</td>\n",
              "      <td>[0.0, 1.0, 0.0, 0.0, 0.0, 0.0, 0.0, 0.0, 0.0, ...</td>\n",
              "      <td>[0.0, 0.0, 0.0, 0.0, 1.0, 0.0, 0.0]</td>\n",
              "      <td>[0.0, 1.0]</td>\n",
              "      <td>[0.0, 0.0, 1.0]</td>\n",
              "      <td>[0.0, 1.0]</td>\n",
              "      <td>[0.0, 1.0, 0.0, 0.0, 0.0]</td>\n",
              "      <td>[1.0, 0.0]</td>\n",
              "    </tr>\n",
              "    <tr>\n",
              "      <th>247</th>\n",
              "      <td>[1.0, 0.0]</td>\n",
              "      <td>[0.0, 0.0, 1.0, 0.0, 0.0, 0.0]</td>\n",
              "      <td>[1.0, 0.0, 0.0]</td>\n",
              "      <td>[0.0, 0.0, 0.0, 0.0, 0.0, 0.0, 0.0, 0.0, 1.0, ...</td>\n",
              "      <td>[0.0, 0.0, 0.0, 0.0, 1.0, 0.0, 0.0]</td>\n",
              "      <td>[0.0, 1.0]</td>\n",
              "      <td>[0.0, 0.0, 1.0]</td>\n",
              "      <td>[1.0, 0.0]</td>\n",
              "      <td>[1.0, 0.0, 0.0, 0.0, 0.0]</td>\n",
              "      <td>[0.0, 1.0]</td>\n",
              "    </tr>\n",
              "    <tr>\n",
              "      <th>126</th>\n",
              "      <td>[0.0, 1.0]</td>\n",
              "      <td>[0.0, 0.0, 0.0, 1.0, 0.0, 0.0]</td>\n",
              "      <td>[0.0, 0.0, 1.0]</td>\n",
              "      <td>[0.0, 0.0, 0.0, 0.0, 0.0, 0.0, 0.0, 0.0, 1.0, ...</td>\n",
              "      <td>[0.0, 0.0, 1.0, 0.0, 0.0, 0.0, 0.0]</td>\n",
              "      <td>[0.0, 1.0]</td>\n",
              "      <td>[0.0, 1.0, 0.0]</td>\n",
              "      <td>[0.0, 1.0]</td>\n",
              "      <td>[0.0, 0.0, 0.0, 1.0, 0.0]</td>\n",
              "      <td>[1.0, 0.0]</td>\n",
              "    </tr>\n",
              "    <tr>\n",
              "      <th>127</th>\n",
              "      <td>[0.0, 1.0]</td>\n",
              "      <td>[0.0, 0.0, 0.0, 1.0, 0.0, 0.0]</td>\n",
              "      <td>[0.0, 0.0, 1.0]</td>\n",
              "      <td>[0.0, 1.0, 0.0, 0.0, 0.0, 0.0, 0.0, 0.0, 0.0, ...</td>\n",
              "      <td>[0.0, 0.0, 1.0, 0.0, 0.0, 0.0, 0.0]</td>\n",
              "      <td>[0.0, 1.0]</td>\n",
              "      <td>[0.0, 1.0, 0.0]</td>\n",
              "      <td>[0.0, 1.0]</td>\n",
              "      <td>[0.0, 1.0, 0.0, 0.0, 0.0]</td>\n",
              "      <td>[0.0, 1.0]</td>\n",
              "    </tr>\n",
              "    <tr>\n",
              "      <th>258</th>\n",
              "      <td>[1.0, 0.0]</td>\n",
              "      <td>[0.0, 0.0, 1.0, 0.0, 0.0, 0.0]</td>\n",
              "      <td>[1.0, 0.0, 0.0]</td>\n",
              "      <td>[0.0, 0.0, 0.0, 0.0, 0.0, 0.0, 0.0, 0.0, 1.0, ...</td>\n",
              "      <td>[0.0, 0.0, 1.0, 0.0, 0.0, 0.0, 0.0]</td>\n",
              "      <td>[0.0, 1.0]</td>\n",
              "      <td>[0.0, 1.0, 0.0]</td>\n",
              "      <td>[1.0, 0.0]</td>\n",
              "      <td>[1.0, 0.0, 0.0, 0.0, 0.0]</td>\n",
              "      <td>[0.0, 1.0]</td>\n",
              "    </tr>\n",
              "  </tbody>\n",
              "</table>\n",
              "</div>\n",
              "      <button class=\"colab-df-convert\" onclick=\"convertToInteractive('df-28aac1de-8102-4875-8b32-bb7166b3646c')\"\n",
              "              title=\"Convert this dataframe to an interactive table.\"\n",
              "              style=\"display:none;\">\n",
              "        \n",
              "  <svg xmlns=\"http://www.w3.org/2000/svg\" height=\"24px\"viewBox=\"0 0 24 24\"\n",
              "       width=\"24px\">\n",
              "    <path d=\"M0 0h24v24H0V0z\" fill=\"none\"/>\n",
              "    <path d=\"M18.56 5.44l.94 2.06.94-2.06 2.06-.94-2.06-.94-.94-2.06-.94 2.06-2.06.94zm-11 1L8.5 8.5l.94-2.06 2.06-.94-2.06-.94L8.5 2.5l-.94 2.06-2.06.94zm10 10l.94 2.06.94-2.06 2.06-.94-2.06-.94-.94-2.06-.94 2.06-2.06.94z\"/><path d=\"M17.41 7.96l-1.37-1.37c-.4-.4-.92-.59-1.43-.59-.52 0-1.04.2-1.43.59L10.3 9.45l-7.72 7.72c-.78.78-.78 2.05 0 2.83L4 21.41c.39.39.9.59 1.41.59.51 0 1.02-.2 1.41-.59l7.78-7.78 2.81-2.81c.8-.78.8-2.07 0-2.86zM5.41 20L4 18.59l7.72-7.72 1.47 1.35L5.41 20z\"/>\n",
              "  </svg>\n",
              "      </button>\n",
              "      \n",
              "  <style>\n",
              "    .colab-df-container {\n",
              "      display:flex;\n",
              "      flex-wrap:wrap;\n",
              "      gap: 12px;\n",
              "    }\n",
              "\n",
              "    .colab-df-convert {\n",
              "      background-color: #E8F0FE;\n",
              "      border: none;\n",
              "      border-radius: 50%;\n",
              "      cursor: pointer;\n",
              "      display: none;\n",
              "      fill: #1967D2;\n",
              "      height: 32px;\n",
              "      padding: 0 0 0 0;\n",
              "      width: 32px;\n",
              "    }\n",
              "\n",
              "    .colab-df-convert:hover {\n",
              "      background-color: #E2EBFA;\n",
              "      box-shadow: 0px 1px 2px rgba(60, 64, 67, 0.3), 0px 1px 3px 1px rgba(60, 64, 67, 0.15);\n",
              "      fill: #174EA6;\n",
              "    }\n",
              "\n",
              "    [theme=dark] .colab-df-convert {\n",
              "      background-color: #3B4455;\n",
              "      fill: #D2E3FC;\n",
              "    }\n",
              "\n",
              "    [theme=dark] .colab-df-convert:hover {\n",
              "      background-color: #434B5C;\n",
              "      box-shadow: 0px 1px 3px 1px rgba(0, 0, 0, 0.15);\n",
              "      filter: drop-shadow(0px 1px 2px rgba(0, 0, 0, 0.3));\n",
              "      fill: #FFFFFF;\n",
              "    }\n",
              "  </style>\n",
              "\n",
              "      <script>\n",
              "        const buttonEl =\n",
              "          document.querySelector('#df-28aac1de-8102-4875-8b32-bb7166b3646c button.colab-df-convert');\n",
              "        buttonEl.style.display =\n",
              "          google.colab.kernel.accessAllowed ? 'block' : 'none';\n",
              "\n",
              "        async function convertToInteractive(key) {\n",
              "          const element = document.querySelector('#df-28aac1de-8102-4875-8b32-bb7166b3646c');\n",
              "          const dataTable =\n",
              "            await google.colab.kernel.invokeFunction('convertToInteractive',\n",
              "                                                     [key], {});\n",
              "          if (!dataTable) return;\n",
              "\n",
              "          const docLinkHtml = 'Like what you see? Visit the ' +\n",
              "            '<a target=\"_blank\" href=https://colab.research.google.com/notebooks/data_table.ipynb>data table notebook</a>'\n",
              "            + ' to learn more about interactive tables.';\n",
              "          element.innerHTML = '';\n",
              "          dataTable['output_type'] = 'display_data';\n",
              "          await google.colab.output.renderOutput(dataTable, element);\n",
              "          const docLink = document.createElement('div');\n",
              "          docLink.innerHTML = docLinkHtml;\n",
              "          element.appendChild(docLink);\n",
              "        }\n",
              "      </script>\n",
              "    </div>\n",
              "  </div>\n",
              "  "
            ]
          },
          "metadata": {},
          "execution_count": 24
        }
      ]
    },
    {
      "cell_type": "markdown",
      "source": [
        "- Retiramos a coluna \"seio\", pois definimos que não é relevante na análise\n"
      ],
      "metadata": {
        "id": "AmljfsXdbHl9"
      }
    },
    {
      "cell_type": "code",
      "source": [
        "df = df.drop(columns='Breast')"
      ],
      "metadata": {
        "id": "X0VUDuqfFzv-"
      },
      "execution_count": 25,
      "outputs": []
    },
    {
      "cell_type": "code",
      "source": [
        "df.head()"
      ],
      "metadata": {
        "colab": {
          "base_uri": "https://localhost:8080/",
          "height": 206
        },
        "id": "rl2-2outyhjR",
        "outputId": "614ccb1f-3242-495f-f3cc-b4fde16bb3ad"
      },
      "execution_count": 26,
      "outputs": [
        {
          "output_type": "execute_result",
          "data": {
            "text/plain": [
              "          Class                             Age        Menopause  \\\n",
              "130  [0.0, 1.0]  [0.0, 0.0, 0.0, 0.0, 1.0, 0.0]  [0.0, 0.0, 1.0]   \n",
              "230  [1.0, 0.0]  [0.0, 0.0, 1.0, 0.0, 0.0, 0.0]  [0.0, 0.0, 1.0]   \n",
              "129  [0.0, 1.0]  [0.0, 0.0, 0.0, 0.0, 1.0, 0.0]  [0.0, 0.0, 1.0]   \n",
              "245  [1.0, 0.0]  [0.0, 0.0, 0.0, 1.0, 0.0, 0.0]  [0.0, 0.0, 1.0]   \n",
              "265  [1.0, 0.0]  [0.0, 0.0, 0.0, 1.0, 0.0, 0.0]  [0.0, 0.0, 1.0]   \n",
              "\n",
              "                                            Tumor_size  \\\n",
              "130  [0.0, 0.0, 0.0, 0.0, 0.0, 0.0, 0.0, 1.0, 0.0, ...   \n",
              "230  [0.0, 0.0, 0.0, 0.0, 0.0, 1.0, 0.0, 0.0, 0.0, ...   \n",
              "129  [0.0, 0.0, 0.0, 0.0, 0.0, 0.0, 0.0, 1.0, 0.0, ...   \n",
              "245  [0.0, 0.0, 0.0, 0.0, 0.0, 0.0, 0.0, 0.0, 1.0, ...   \n",
              "265  [0.0, 0.0, 0.0, 0.0, 0.0, 0.0, 0.0, 1.0, 0.0, ...   \n",
              "\n",
              "                               Inv_nodes   Node_caps        Deg_malig  \\\n",
              "130  [0.0, 0.0, 0.0, 0.0, 1.0, 0.0, 0.0]  [0.0, 1.0]  [0.0, 1.0, 0.0]   \n",
              "230  [0.0, 0.0, 0.0, 0.0, 1.0, 0.0, 0.0]  [0.0, 1.0]  [0.0, 1.0, 0.0]   \n",
              "129  [0.0, 0.0, 0.0, 0.0, 1.0, 0.0, 0.0]  [0.0, 1.0]  [0.0, 1.0, 0.0]   \n",
              "245  [0.0, 0.0, 0.0, 0.0, 1.0, 0.0, 0.0]  [1.0, 0.0]  [0.0, 1.0, 0.0]   \n",
              "265  [0.0, 0.0, 0.0, 0.0, 1.0, 0.0, 0.0]  [0.0, 1.0]  [0.0, 0.0, 1.0]   \n",
              "\n",
              "                   Breast_quad   Irradiant  \n",
              "130  [0.0, 0.0, 0.0, 1.0, 0.0]  [0.0, 1.0]  \n",
              "230  [0.0, 1.0, 0.0, 0.0, 0.0]  [1.0, 0.0]  \n",
              "129  [0.0, 1.0, 0.0, 0.0, 0.0]  [0.0, 1.0]  \n",
              "245  [0.0, 1.0, 0.0, 0.0, 0.0]  [0.0, 1.0]  \n",
              "265  [0.0, 0.0, 0.0, 0.0, 1.0]  [1.0, 0.0]  "
            ],
            "text/html": [
              "\n",
              "  <div id=\"df-ef973262-5c3e-4b8d-843a-4300bde32771\">\n",
              "    <div class=\"colab-df-container\">\n",
              "      <div>\n",
              "<style scoped>\n",
              "    .dataframe tbody tr th:only-of-type {\n",
              "        vertical-align: middle;\n",
              "    }\n",
              "\n",
              "    .dataframe tbody tr th {\n",
              "        vertical-align: top;\n",
              "    }\n",
              "\n",
              "    .dataframe thead th {\n",
              "        text-align: right;\n",
              "    }\n",
              "</style>\n",
              "<table border=\"1\" class=\"dataframe\">\n",
              "  <thead>\n",
              "    <tr style=\"text-align: right;\">\n",
              "      <th></th>\n",
              "      <th>Class</th>\n",
              "      <th>Age</th>\n",
              "      <th>Menopause</th>\n",
              "      <th>Tumor_size</th>\n",
              "      <th>Inv_nodes</th>\n",
              "      <th>Node_caps</th>\n",
              "      <th>Deg_malig</th>\n",
              "      <th>Breast_quad</th>\n",
              "      <th>Irradiant</th>\n",
              "    </tr>\n",
              "  </thead>\n",
              "  <tbody>\n",
              "    <tr>\n",
              "      <th>130</th>\n",
              "      <td>[0.0, 1.0]</td>\n",
              "      <td>[0.0, 0.0, 0.0, 0.0, 1.0, 0.0]</td>\n",
              "      <td>[0.0, 0.0, 1.0]</td>\n",
              "      <td>[0.0, 0.0, 0.0, 0.0, 0.0, 0.0, 0.0, 1.0, 0.0, ...</td>\n",
              "      <td>[0.0, 0.0, 0.0, 0.0, 1.0, 0.0, 0.0]</td>\n",
              "      <td>[0.0, 1.0]</td>\n",
              "      <td>[0.0, 1.0, 0.0]</td>\n",
              "      <td>[0.0, 0.0, 0.0, 1.0, 0.0]</td>\n",
              "      <td>[0.0, 1.0]</td>\n",
              "    </tr>\n",
              "    <tr>\n",
              "      <th>230</th>\n",
              "      <td>[1.0, 0.0]</td>\n",
              "      <td>[0.0, 0.0, 1.0, 0.0, 0.0, 0.0]</td>\n",
              "      <td>[0.0, 0.0, 1.0]</td>\n",
              "      <td>[0.0, 0.0, 0.0, 0.0, 0.0, 1.0, 0.0, 0.0, 0.0, ...</td>\n",
              "      <td>[0.0, 0.0, 0.0, 0.0, 1.0, 0.0, 0.0]</td>\n",
              "      <td>[0.0, 1.0]</td>\n",
              "      <td>[0.0, 1.0, 0.0]</td>\n",
              "      <td>[0.0, 1.0, 0.0, 0.0, 0.0]</td>\n",
              "      <td>[1.0, 0.0]</td>\n",
              "    </tr>\n",
              "    <tr>\n",
              "      <th>129</th>\n",
              "      <td>[0.0, 1.0]</td>\n",
              "      <td>[0.0, 0.0, 0.0, 0.0, 1.0, 0.0]</td>\n",
              "      <td>[0.0, 0.0, 1.0]</td>\n",
              "      <td>[0.0, 0.0, 0.0, 0.0, 0.0, 0.0, 0.0, 1.0, 0.0, ...</td>\n",
              "      <td>[0.0, 0.0, 0.0, 0.0, 1.0, 0.0, 0.0]</td>\n",
              "      <td>[0.0, 1.0]</td>\n",
              "      <td>[0.0, 1.0, 0.0]</td>\n",
              "      <td>[0.0, 1.0, 0.0, 0.0, 0.0]</td>\n",
              "      <td>[0.0, 1.0]</td>\n",
              "    </tr>\n",
              "    <tr>\n",
              "      <th>245</th>\n",
              "      <td>[1.0, 0.0]</td>\n",
              "      <td>[0.0, 0.0, 0.0, 1.0, 0.0, 0.0]</td>\n",
              "      <td>[0.0, 0.0, 1.0]</td>\n",
              "      <td>[0.0, 0.0, 0.0, 0.0, 0.0, 0.0, 0.0, 0.0, 1.0, ...</td>\n",
              "      <td>[0.0, 0.0, 0.0, 0.0, 1.0, 0.0, 0.0]</td>\n",
              "      <td>[1.0, 0.0]</td>\n",
              "      <td>[0.0, 1.0, 0.0]</td>\n",
              "      <td>[0.0, 1.0, 0.0, 0.0, 0.0]</td>\n",
              "      <td>[0.0, 1.0]</td>\n",
              "    </tr>\n",
              "    <tr>\n",
              "      <th>265</th>\n",
              "      <td>[1.0, 0.0]</td>\n",
              "      <td>[0.0, 0.0, 0.0, 1.0, 0.0, 0.0]</td>\n",
              "      <td>[0.0, 0.0, 1.0]</td>\n",
              "      <td>[0.0, 0.0, 0.0, 0.0, 0.0, 0.0, 0.0, 1.0, 0.0, ...</td>\n",
              "      <td>[0.0, 0.0, 0.0, 0.0, 1.0, 0.0, 0.0]</td>\n",
              "      <td>[0.0, 1.0]</td>\n",
              "      <td>[0.0, 0.0, 1.0]</td>\n",
              "      <td>[0.0, 0.0, 0.0, 0.0, 1.0]</td>\n",
              "      <td>[1.0, 0.0]</td>\n",
              "    </tr>\n",
              "  </tbody>\n",
              "</table>\n",
              "</div>\n",
              "      <button class=\"colab-df-convert\" onclick=\"convertToInteractive('df-ef973262-5c3e-4b8d-843a-4300bde32771')\"\n",
              "              title=\"Convert this dataframe to an interactive table.\"\n",
              "              style=\"display:none;\">\n",
              "        \n",
              "  <svg xmlns=\"http://www.w3.org/2000/svg\" height=\"24px\"viewBox=\"0 0 24 24\"\n",
              "       width=\"24px\">\n",
              "    <path d=\"M0 0h24v24H0V0z\" fill=\"none\"/>\n",
              "    <path d=\"M18.56 5.44l.94 2.06.94-2.06 2.06-.94-2.06-.94-.94-2.06-.94 2.06-2.06.94zm-11 1L8.5 8.5l.94-2.06 2.06-.94-2.06-.94L8.5 2.5l-.94 2.06-2.06.94zm10 10l.94 2.06.94-2.06 2.06-.94-2.06-.94-.94-2.06-.94 2.06-2.06.94z\"/><path d=\"M17.41 7.96l-1.37-1.37c-.4-.4-.92-.59-1.43-.59-.52 0-1.04.2-1.43.59L10.3 9.45l-7.72 7.72c-.78.78-.78 2.05 0 2.83L4 21.41c.39.39.9.59 1.41.59.51 0 1.02-.2 1.41-.59l7.78-7.78 2.81-2.81c.8-.78.8-2.07 0-2.86zM5.41 20L4 18.59l7.72-7.72 1.47 1.35L5.41 20z\"/>\n",
              "  </svg>\n",
              "      </button>\n",
              "      \n",
              "  <style>\n",
              "    .colab-df-container {\n",
              "      display:flex;\n",
              "      flex-wrap:wrap;\n",
              "      gap: 12px;\n",
              "    }\n",
              "\n",
              "    .colab-df-convert {\n",
              "      background-color: #E8F0FE;\n",
              "      border: none;\n",
              "      border-radius: 50%;\n",
              "      cursor: pointer;\n",
              "      display: none;\n",
              "      fill: #1967D2;\n",
              "      height: 32px;\n",
              "      padding: 0 0 0 0;\n",
              "      width: 32px;\n",
              "    }\n",
              "\n",
              "    .colab-df-convert:hover {\n",
              "      background-color: #E2EBFA;\n",
              "      box-shadow: 0px 1px 2px rgba(60, 64, 67, 0.3), 0px 1px 3px 1px rgba(60, 64, 67, 0.15);\n",
              "      fill: #174EA6;\n",
              "    }\n",
              "\n",
              "    [theme=dark] .colab-df-convert {\n",
              "      background-color: #3B4455;\n",
              "      fill: #D2E3FC;\n",
              "    }\n",
              "\n",
              "    [theme=dark] .colab-df-convert:hover {\n",
              "      background-color: #434B5C;\n",
              "      box-shadow: 0px 1px 3px 1px rgba(0, 0, 0, 0.15);\n",
              "      filter: drop-shadow(0px 1px 2px rgba(0, 0, 0, 0.3));\n",
              "      fill: #FFFFFF;\n",
              "    }\n",
              "  </style>\n",
              "\n",
              "      <script>\n",
              "        const buttonEl =\n",
              "          document.querySelector('#df-ef973262-5c3e-4b8d-843a-4300bde32771 button.colab-df-convert');\n",
              "        buttonEl.style.display =\n",
              "          google.colab.kernel.accessAllowed ? 'block' : 'none';\n",
              "\n",
              "        async function convertToInteractive(key) {\n",
              "          const element = document.querySelector('#df-ef973262-5c3e-4b8d-843a-4300bde32771');\n",
              "          const dataTable =\n",
              "            await google.colab.kernel.invokeFunction('convertToInteractive',\n",
              "                                                     [key], {});\n",
              "          if (!dataTable) return;\n",
              "\n",
              "          const docLinkHtml = 'Like what you see? Visit the ' +\n",
              "            '<a target=\"_blank\" href=https://colab.research.google.com/notebooks/data_table.ipynb>data table notebook</a>'\n",
              "            + ' to learn more about interactive tables.';\n",
              "          element.innerHTML = '';\n",
              "          dataTable['output_type'] = 'display_data';\n",
              "          await google.colab.output.renderOutput(dataTable, element);\n",
              "          const docLink = document.createElement('div');\n",
              "          docLink.innerHTML = docLinkHtml;\n",
              "          element.appendChild(docLink);\n",
              "        }\n",
              "      </script>\n",
              "    </div>\n",
              "  </div>\n",
              "  "
            ]
          },
          "metadata": {},
          "execution_count": 26
        }
      ]
    },
    {
      "cell_type": "markdown",
      "source": [
        "- Criamos um novo dataframe com a coluna classe e descartamos essa coluna do dataframe original\n"
      ],
      "metadata": {
        "id": "4-_1ffAdbI28"
      }
    },
    {
      "cell_type": "code",
      "source": [
        "labels = df.Class.values\n",
        "df = df.drop(columns= 'Class')\n",
        "df.head(10)"
      ],
      "metadata": {
        "colab": {
          "base_uri": "https://localhost:8080/",
          "height": 363
        },
        "id": "mqB5a787y5RX",
        "outputId": "449af734-b27c-4ae4-e1ff-188a68f567f0"
      },
      "execution_count": 27,
      "outputs": [
        {
          "output_type": "execute_result",
          "data": {
            "text/plain": [
              "                                Age        Menopause  \\\n",
              "130  [0.0, 0.0, 0.0, 0.0, 1.0, 0.0]  [0.0, 0.0, 1.0]   \n",
              "230  [0.0, 0.0, 1.0, 0.0, 0.0, 0.0]  [0.0, 0.0, 1.0]   \n",
              "129  [0.0, 0.0, 0.0, 0.0, 1.0, 0.0]  [0.0, 0.0, 1.0]   \n",
              "245  [0.0, 0.0, 0.0, 1.0, 0.0, 0.0]  [0.0, 0.0, 1.0]   \n",
              "265  [0.0, 0.0, 0.0, 1.0, 0.0, 0.0]  [0.0, 0.0, 1.0]   \n",
              "275  [0.0, 0.0, 0.0, 0.0, 1.0, 0.0]  [0.0, 0.0, 1.0]   \n",
              "247  [0.0, 0.0, 1.0, 0.0, 0.0, 0.0]  [1.0, 0.0, 0.0]   \n",
              "126  [0.0, 0.0, 0.0, 1.0, 0.0, 0.0]  [0.0, 0.0, 1.0]   \n",
              "127  [0.0, 0.0, 0.0, 1.0, 0.0, 0.0]  [0.0, 0.0, 1.0]   \n",
              "258  [0.0, 0.0, 1.0, 0.0, 0.0, 0.0]  [1.0, 0.0, 0.0]   \n",
              "\n",
              "                                            Tumor_size  \\\n",
              "130  [0.0, 0.0, 0.0, 0.0, 0.0, 0.0, 0.0, 1.0, 0.0, ...   \n",
              "230  [0.0, 0.0, 0.0, 0.0, 0.0, 1.0, 0.0, 0.0, 0.0, ...   \n",
              "129  [0.0, 0.0, 0.0, 0.0, 0.0, 0.0, 0.0, 1.0, 0.0, ...   \n",
              "245  [0.0, 0.0, 0.0, 0.0, 0.0, 0.0, 0.0, 0.0, 1.0, ...   \n",
              "265  [0.0, 0.0, 0.0, 0.0, 0.0, 0.0, 0.0, 1.0, 0.0, ...   \n",
              "275  [0.0, 1.0, 0.0, 0.0, 0.0, 0.0, 0.0, 0.0, 0.0, ...   \n",
              "247  [0.0, 0.0, 0.0, 0.0, 0.0, 0.0, 0.0, 0.0, 1.0, ...   \n",
              "126  [0.0, 0.0, 0.0, 0.0, 0.0, 0.0, 0.0, 0.0, 1.0, ...   \n",
              "127  [0.0, 1.0, 0.0, 0.0, 0.0, 0.0, 0.0, 0.0, 0.0, ...   \n",
              "258  [0.0, 0.0, 0.0, 0.0, 0.0, 0.0, 0.0, 0.0, 1.0, ...   \n",
              "\n",
              "                               Inv_nodes   Node_caps        Deg_malig  \\\n",
              "130  [0.0, 0.0, 0.0, 0.0, 1.0, 0.0, 0.0]  [0.0, 1.0]  [0.0, 1.0, 0.0]   \n",
              "230  [0.0, 0.0, 0.0, 0.0, 1.0, 0.0, 0.0]  [0.0, 1.0]  [0.0, 1.0, 0.0]   \n",
              "129  [0.0, 0.0, 0.0, 0.0, 1.0, 0.0, 0.0]  [0.0, 1.0]  [0.0, 1.0, 0.0]   \n",
              "245  [0.0, 0.0, 0.0, 0.0, 1.0, 0.0, 0.0]  [1.0, 0.0]  [0.0, 1.0, 0.0]   \n",
              "265  [0.0, 0.0, 0.0, 0.0, 1.0, 0.0, 0.0]  [0.0, 1.0]  [0.0, 0.0, 1.0]   \n",
              "275  [0.0, 0.0, 0.0, 0.0, 1.0, 0.0, 0.0]  [0.0, 1.0]  [0.0, 0.0, 1.0]   \n",
              "247  [0.0, 0.0, 0.0, 0.0, 1.0, 0.0, 0.0]  [0.0, 1.0]  [0.0, 0.0, 1.0]   \n",
              "126  [0.0, 0.0, 1.0, 0.0, 0.0, 0.0, 0.0]  [0.0, 1.0]  [0.0, 1.0, 0.0]   \n",
              "127  [0.0, 0.0, 1.0, 0.0, 0.0, 0.0, 0.0]  [0.0, 1.0]  [0.0, 1.0, 0.0]   \n",
              "258  [0.0, 0.0, 1.0, 0.0, 0.0, 0.0, 0.0]  [0.0, 1.0]  [0.0, 1.0, 0.0]   \n",
              "\n",
              "                   Breast_quad   Irradiant  \n",
              "130  [0.0, 0.0, 0.0, 1.0, 0.0]  [0.0, 1.0]  \n",
              "230  [0.0, 1.0, 0.0, 0.0, 0.0]  [1.0, 0.0]  \n",
              "129  [0.0, 1.0, 0.0, 0.0, 0.0]  [0.0, 1.0]  \n",
              "245  [0.0, 1.0, 0.0, 0.0, 0.0]  [0.0, 1.0]  \n",
              "265  [0.0, 0.0, 0.0, 0.0, 1.0]  [1.0, 0.0]  \n",
              "275  [0.0, 1.0, 0.0, 0.0, 0.0]  [1.0, 0.0]  \n",
              "247  [1.0, 0.0, 0.0, 0.0, 0.0]  [0.0, 1.0]  \n",
              "126  [0.0, 0.0, 0.0, 1.0, 0.0]  [1.0, 0.0]  \n",
              "127  [0.0, 1.0, 0.0, 0.0, 0.0]  [0.0, 1.0]  \n",
              "258  [1.0, 0.0, 0.0, 0.0, 0.0]  [0.0, 1.0]  "
            ],
            "text/html": [
              "\n",
              "  <div id=\"df-6389f727-9dda-4626-b268-b1fafa7e9ae8\">\n",
              "    <div class=\"colab-df-container\">\n",
              "      <div>\n",
              "<style scoped>\n",
              "    .dataframe tbody tr th:only-of-type {\n",
              "        vertical-align: middle;\n",
              "    }\n",
              "\n",
              "    .dataframe tbody tr th {\n",
              "        vertical-align: top;\n",
              "    }\n",
              "\n",
              "    .dataframe thead th {\n",
              "        text-align: right;\n",
              "    }\n",
              "</style>\n",
              "<table border=\"1\" class=\"dataframe\">\n",
              "  <thead>\n",
              "    <tr style=\"text-align: right;\">\n",
              "      <th></th>\n",
              "      <th>Age</th>\n",
              "      <th>Menopause</th>\n",
              "      <th>Tumor_size</th>\n",
              "      <th>Inv_nodes</th>\n",
              "      <th>Node_caps</th>\n",
              "      <th>Deg_malig</th>\n",
              "      <th>Breast_quad</th>\n",
              "      <th>Irradiant</th>\n",
              "    </tr>\n",
              "  </thead>\n",
              "  <tbody>\n",
              "    <tr>\n",
              "      <th>130</th>\n",
              "      <td>[0.0, 0.0, 0.0, 0.0, 1.0, 0.0]</td>\n",
              "      <td>[0.0, 0.0, 1.0]</td>\n",
              "      <td>[0.0, 0.0, 0.0, 0.0, 0.0, 0.0, 0.0, 1.0, 0.0, ...</td>\n",
              "      <td>[0.0, 0.0, 0.0, 0.0, 1.0, 0.0, 0.0]</td>\n",
              "      <td>[0.0, 1.0]</td>\n",
              "      <td>[0.0, 1.0, 0.0]</td>\n",
              "      <td>[0.0, 0.0, 0.0, 1.0, 0.0]</td>\n",
              "      <td>[0.0, 1.0]</td>\n",
              "    </tr>\n",
              "    <tr>\n",
              "      <th>230</th>\n",
              "      <td>[0.0, 0.0, 1.0, 0.0, 0.0, 0.0]</td>\n",
              "      <td>[0.0, 0.0, 1.0]</td>\n",
              "      <td>[0.0, 0.0, 0.0, 0.0, 0.0, 1.0, 0.0, 0.0, 0.0, ...</td>\n",
              "      <td>[0.0, 0.0, 0.0, 0.0, 1.0, 0.0, 0.0]</td>\n",
              "      <td>[0.0, 1.0]</td>\n",
              "      <td>[0.0, 1.0, 0.0]</td>\n",
              "      <td>[0.0, 1.0, 0.0, 0.0, 0.0]</td>\n",
              "      <td>[1.0, 0.0]</td>\n",
              "    </tr>\n",
              "    <tr>\n",
              "      <th>129</th>\n",
              "      <td>[0.0, 0.0, 0.0, 0.0, 1.0, 0.0]</td>\n",
              "      <td>[0.0, 0.0, 1.0]</td>\n",
              "      <td>[0.0, 0.0, 0.0, 0.0, 0.0, 0.0, 0.0, 1.0, 0.0, ...</td>\n",
              "      <td>[0.0, 0.0, 0.0, 0.0, 1.0, 0.0, 0.0]</td>\n",
              "      <td>[0.0, 1.0]</td>\n",
              "      <td>[0.0, 1.0, 0.0]</td>\n",
              "      <td>[0.0, 1.0, 0.0, 0.0, 0.0]</td>\n",
              "      <td>[0.0, 1.0]</td>\n",
              "    </tr>\n",
              "    <tr>\n",
              "      <th>245</th>\n",
              "      <td>[0.0, 0.0, 0.0, 1.0, 0.0, 0.0]</td>\n",
              "      <td>[0.0, 0.0, 1.0]</td>\n",
              "      <td>[0.0, 0.0, 0.0, 0.0, 0.0, 0.0, 0.0, 0.0, 1.0, ...</td>\n",
              "      <td>[0.0, 0.0, 0.0, 0.0, 1.0, 0.0, 0.0]</td>\n",
              "      <td>[1.0, 0.0]</td>\n",
              "      <td>[0.0, 1.0, 0.0]</td>\n",
              "      <td>[0.0, 1.0, 0.0, 0.0, 0.0]</td>\n",
              "      <td>[0.0, 1.0]</td>\n",
              "    </tr>\n",
              "    <tr>\n",
              "      <th>265</th>\n",
              "      <td>[0.0, 0.0, 0.0, 1.0, 0.0, 0.0]</td>\n",
              "      <td>[0.0, 0.0, 1.0]</td>\n",
              "      <td>[0.0, 0.0, 0.0, 0.0, 0.0, 0.0, 0.0, 1.0, 0.0, ...</td>\n",
              "      <td>[0.0, 0.0, 0.0, 0.0, 1.0, 0.0, 0.0]</td>\n",
              "      <td>[0.0, 1.0]</td>\n",
              "      <td>[0.0, 0.0, 1.0]</td>\n",
              "      <td>[0.0, 0.0, 0.0, 0.0, 1.0]</td>\n",
              "      <td>[1.0, 0.0]</td>\n",
              "    </tr>\n",
              "    <tr>\n",
              "      <th>275</th>\n",
              "      <td>[0.0, 0.0, 0.0, 0.0, 1.0, 0.0]</td>\n",
              "      <td>[0.0, 0.0, 1.0]</td>\n",
              "      <td>[0.0, 1.0, 0.0, 0.0, 0.0, 0.0, 0.0, 0.0, 0.0, ...</td>\n",
              "      <td>[0.0, 0.0, 0.0, 0.0, 1.0, 0.0, 0.0]</td>\n",
              "      <td>[0.0, 1.0]</td>\n",
              "      <td>[0.0, 0.0, 1.0]</td>\n",
              "      <td>[0.0, 1.0, 0.0, 0.0, 0.0]</td>\n",
              "      <td>[1.0, 0.0]</td>\n",
              "    </tr>\n",
              "    <tr>\n",
              "      <th>247</th>\n",
              "      <td>[0.0, 0.0, 1.0, 0.0, 0.0, 0.0]</td>\n",
              "      <td>[1.0, 0.0, 0.0]</td>\n",
              "      <td>[0.0, 0.0, 0.0, 0.0, 0.0, 0.0, 0.0, 0.0, 1.0, ...</td>\n",
              "      <td>[0.0, 0.0, 0.0, 0.0, 1.0, 0.0, 0.0]</td>\n",
              "      <td>[0.0, 1.0]</td>\n",
              "      <td>[0.0, 0.0, 1.0]</td>\n",
              "      <td>[1.0, 0.0, 0.0, 0.0, 0.0]</td>\n",
              "      <td>[0.0, 1.0]</td>\n",
              "    </tr>\n",
              "    <tr>\n",
              "      <th>126</th>\n",
              "      <td>[0.0, 0.0, 0.0, 1.0, 0.0, 0.0]</td>\n",
              "      <td>[0.0, 0.0, 1.0]</td>\n",
              "      <td>[0.0, 0.0, 0.0, 0.0, 0.0, 0.0, 0.0, 0.0, 1.0, ...</td>\n",
              "      <td>[0.0, 0.0, 1.0, 0.0, 0.0, 0.0, 0.0]</td>\n",
              "      <td>[0.0, 1.0]</td>\n",
              "      <td>[0.0, 1.0, 0.0]</td>\n",
              "      <td>[0.0, 0.0, 0.0, 1.0, 0.0]</td>\n",
              "      <td>[1.0, 0.0]</td>\n",
              "    </tr>\n",
              "    <tr>\n",
              "      <th>127</th>\n",
              "      <td>[0.0, 0.0, 0.0, 1.0, 0.0, 0.0]</td>\n",
              "      <td>[0.0, 0.0, 1.0]</td>\n",
              "      <td>[0.0, 1.0, 0.0, 0.0, 0.0, 0.0, 0.0, 0.0, 0.0, ...</td>\n",
              "      <td>[0.0, 0.0, 1.0, 0.0, 0.0, 0.0, 0.0]</td>\n",
              "      <td>[0.0, 1.0]</td>\n",
              "      <td>[0.0, 1.0, 0.0]</td>\n",
              "      <td>[0.0, 1.0, 0.0, 0.0, 0.0]</td>\n",
              "      <td>[0.0, 1.0]</td>\n",
              "    </tr>\n",
              "    <tr>\n",
              "      <th>258</th>\n",
              "      <td>[0.0, 0.0, 1.0, 0.0, 0.0, 0.0]</td>\n",
              "      <td>[1.0, 0.0, 0.0]</td>\n",
              "      <td>[0.0, 0.0, 0.0, 0.0, 0.0, 0.0, 0.0, 0.0, 1.0, ...</td>\n",
              "      <td>[0.0, 0.0, 1.0, 0.0, 0.0, 0.0, 0.0]</td>\n",
              "      <td>[0.0, 1.0]</td>\n",
              "      <td>[0.0, 1.0, 0.0]</td>\n",
              "      <td>[1.0, 0.0, 0.0, 0.0, 0.0]</td>\n",
              "      <td>[0.0, 1.0]</td>\n",
              "    </tr>\n",
              "  </tbody>\n",
              "</table>\n",
              "</div>\n",
              "      <button class=\"colab-df-convert\" onclick=\"convertToInteractive('df-6389f727-9dda-4626-b268-b1fafa7e9ae8')\"\n",
              "              title=\"Convert this dataframe to an interactive table.\"\n",
              "              style=\"display:none;\">\n",
              "        \n",
              "  <svg xmlns=\"http://www.w3.org/2000/svg\" height=\"24px\"viewBox=\"0 0 24 24\"\n",
              "       width=\"24px\">\n",
              "    <path d=\"M0 0h24v24H0V0z\" fill=\"none\"/>\n",
              "    <path d=\"M18.56 5.44l.94 2.06.94-2.06 2.06-.94-2.06-.94-.94-2.06-.94 2.06-2.06.94zm-11 1L8.5 8.5l.94-2.06 2.06-.94-2.06-.94L8.5 2.5l-.94 2.06-2.06.94zm10 10l.94 2.06.94-2.06 2.06-.94-2.06-.94-.94-2.06-.94 2.06-2.06.94z\"/><path d=\"M17.41 7.96l-1.37-1.37c-.4-.4-.92-.59-1.43-.59-.52 0-1.04.2-1.43.59L10.3 9.45l-7.72 7.72c-.78.78-.78 2.05 0 2.83L4 21.41c.39.39.9.59 1.41.59.51 0 1.02-.2 1.41-.59l7.78-7.78 2.81-2.81c.8-.78.8-2.07 0-2.86zM5.41 20L4 18.59l7.72-7.72 1.47 1.35L5.41 20z\"/>\n",
              "  </svg>\n",
              "      </button>\n",
              "      \n",
              "  <style>\n",
              "    .colab-df-container {\n",
              "      display:flex;\n",
              "      flex-wrap:wrap;\n",
              "      gap: 12px;\n",
              "    }\n",
              "\n",
              "    .colab-df-convert {\n",
              "      background-color: #E8F0FE;\n",
              "      border: none;\n",
              "      border-radius: 50%;\n",
              "      cursor: pointer;\n",
              "      display: none;\n",
              "      fill: #1967D2;\n",
              "      height: 32px;\n",
              "      padding: 0 0 0 0;\n",
              "      width: 32px;\n",
              "    }\n",
              "\n",
              "    .colab-df-convert:hover {\n",
              "      background-color: #E2EBFA;\n",
              "      box-shadow: 0px 1px 2px rgba(60, 64, 67, 0.3), 0px 1px 3px 1px rgba(60, 64, 67, 0.15);\n",
              "      fill: #174EA6;\n",
              "    }\n",
              "\n",
              "    [theme=dark] .colab-df-convert {\n",
              "      background-color: #3B4455;\n",
              "      fill: #D2E3FC;\n",
              "    }\n",
              "\n",
              "    [theme=dark] .colab-df-convert:hover {\n",
              "      background-color: #434B5C;\n",
              "      box-shadow: 0px 1px 3px 1px rgba(0, 0, 0, 0.15);\n",
              "      filter: drop-shadow(0px 1px 2px rgba(0, 0, 0, 0.3));\n",
              "      fill: #FFFFFF;\n",
              "    }\n",
              "  </style>\n",
              "\n",
              "      <script>\n",
              "        const buttonEl =\n",
              "          document.querySelector('#df-6389f727-9dda-4626-b268-b1fafa7e9ae8 button.colab-df-convert');\n",
              "        buttonEl.style.display =\n",
              "          google.colab.kernel.accessAllowed ? 'block' : 'none';\n",
              "\n",
              "        async function convertToInteractive(key) {\n",
              "          const element = document.querySelector('#df-6389f727-9dda-4626-b268-b1fafa7e9ae8');\n",
              "          const dataTable =\n",
              "            await google.colab.kernel.invokeFunction('convertToInteractive',\n",
              "                                                     [key], {});\n",
              "          if (!dataTable) return;\n",
              "\n",
              "          const docLinkHtml = 'Like what you see? Visit the ' +\n",
              "            '<a target=\"_blank\" href=https://colab.research.google.com/notebooks/data_table.ipynb>data table notebook</a>'\n",
              "            + ' to learn more about interactive tables.';\n",
              "          element.innerHTML = '';\n",
              "          dataTable['output_type'] = 'display_data';\n",
              "          await google.colab.output.renderOutput(dataTable, element);\n",
              "          const docLink = document.createElement('div');\n",
              "          docLink.innerHTML = docLinkHtml;\n",
              "          element.appendChild(docLink);\n",
              "        }\n",
              "      </script>\n",
              "    </div>\n",
              "  </div>\n",
              "  "
            ]
          },
          "metadata": {},
          "execution_count": 27
        }
      ]
    },
    {
      "cell_type": "markdown",
      "source": [
        "- Criamos a função de vetorizar para transformar os valores que passaram a ser listas depois da função one hot em vetor para podermos analisar"
      ],
      "metadata": {
        "id": "pykjtYcpbJfE"
      }
    },
    {
      "cell_type": "code",
      "source": [
        "def vetorizar(Age, Menopause, Tumor_size, Inv_nodes, Node_caps, Deg_malig, Breast_quad, Irradiant):\n",
        "    return Age.tolist() + Menopause.tolist() + Tumor_size.tolist() + Inv_nodes.tolist() + Node_caps.tolist() \\\n",
        "    + Deg_malig.tolist() + Breast_quad.tolist() + Irradiant.tolist()"
      ],
      "metadata": {
        "id": "nRZit2c_2sQC"
      },
      "execution_count": 28,
      "outputs": []
    },
    {
      "cell_type": "markdown",
      "source": [
        "- Aplicamos a vetorização do datafame\n"
      ],
      "metadata": {
        "id": "fBKkXXitbKUA"
      }
    },
    {
      "cell_type": "code",
      "source": [
        "entrada = [vetorizar(*_) for _ in df.values]"
      ],
      "metadata": {
        "id": "DHfzlPAZ4U7W"
      },
      "execution_count": 29,
      "outputs": []
    },
    {
      "cell_type": "markdown",
      "source": [
        "- Salvamos o vetor em um arquivo csv\n"
      ],
      "metadata": {
        "id": "umBB4cIKbK4q"
      }
    },
    {
      "cell_type": "code",
      "source": [
        "np.savetxt(\"/home/entrada_treino.csv\", entrada, delimiter=',')"
      ],
      "metadata": {
        "id": "bqgPr-645fsb"
      },
      "execution_count": 30,
      "outputs": []
    },
    {
      "cell_type": "markdown",
      "source": [
        "- Salvamos o dataframe labels como uma lista em um arquivo csv\n"
      ],
      "metadata": {
        "id": "GKChgkgdbLpw"
      }
    },
    {
      "cell_type": "code",
      "source": [
        "np.savetxt(\"/home/labels.csv\", labels.tolist(), delimiter=',')"
      ],
      "metadata": {
        "id": "OZOdL6gO5gwE"
      },
      "execution_count": 31,
      "outputs": []
    },
    {
      "cell_type": "markdown",
      "source": [
        "- Carregamos o vetor de entrada na variavel x"
      ],
      "metadata": {
        "id": "Lebo7vsXbMbd"
      }
    },
    {
      "cell_type": "code",
      "source": [
        "x = np.loadtxt(\"/home/entrada_treino.csv\", delimiter = ',')"
      ],
      "metadata": {
        "id": "9NwKkCGZ6FJH"
      },
      "execution_count": 32,
      "outputs": []
    },
    {
      "cell_type": "markdown",
      "source": [
        "- Carregamos a lista labels na variavel y\n"
      ],
      "metadata": {
        "id": "kKeu8_BNbNEk"
      }
    },
    {
      "cell_type": "code",
      "source": [
        "y = np.loadtxt(\"/home/labels.csv\", delimiter = ',')"
      ],
      "metadata": {
        "id": "q7oVMx22OdEZ"
      },
      "execution_count": 33,
      "outputs": []
    },
    {
      "cell_type": "markdown",
      "source": [
        "- Calculamos o número de vizinhos para aplicar no KNN\n"
      ],
      "metadata": {
        "id": "vHWD_gdAbNxt"
      }
    },
    {
      "cell_type": "code",
      "source": [
        "num_viz = int(round((len(df.index))**(1/2),0))\n",
        "num_viz"
      ],
      "metadata": {
        "colab": {
          "base_uri": "https://localhost:8080/"
        },
        "id": "pK4-emW4c8OK",
        "outputId": "4bb20ba3-47ec-4a84-ed78-3f37d94a6a3c"
      },
      "execution_count": 34,
      "outputs": [
        {
          "output_type": "execute_result",
          "data": {
            "text/plain": [
              "17"
            ]
          },
          "metadata": {},
          "execution_count": 34
        }
      ]
    },
    {
      "cell_type": "markdown",
      "source": [
        "- Inserimos na variavel modelo o KNeighborsClassifier com o número de vizinhos calcualdo\n"
      ],
      "metadata": {
        "id": "DyhJN1AKbOUE"
      }
    },
    {
      "cell_type": "code",
      "source": [
        "modelo = KNeighborsClassifier(n_neighbors= num_viz)"
      ],
      "metadata": {
        "id": "61KG0UuZOdMG"
      },
      "execution_count": 35,
      "outputs": []
    },
    {
      "cell_type": "markdown",
      "source": [
        "- Definimos o tamanho da amostra de treino em 75%\n"
      ],
      "metadata": {
        "id": "jf78z1LTbPAh"
      }
    },
    {
      "cell_type": "code",
      "source": [
        "vol_treino = int(x.shape[0]*0.75)"
      ],
      "metadata": {
        "id": "VFDJMutjOdUS"
      },
      "execution_count": 36,
      "outputs": []
    },
    {
      "cell_type": "markdown",
      "source": [
        "- Separamos as amostras de treino e de teste sendo _t para amostras de treino e _v para amostras de teste"
      ],
      "metadata": {
        "id": "8wCPlyA4bPh8"
      }
    },
    {
      "cell_type": "code",
      "source": [
        "x_t = x[ :vol_treino]\n",
        "y_t = y[ :vol_treino]\n",
        "\n",
        "x_v = x[vol_treino: ]\n",
        "y_v = y[vol_treino: ]"
      ],
      "metadata": {
        "id": "pK-GBWOKPu_Y"
      },
      "execution_count": 37,
      "outputs": []
    },
    {
      "cell_type": "markdown",
      "source": [
        "- Aplicamos o KNN nas amostras de treino\n"
      ],
      "metadata": {
        "id": "mq0RfFCJbQE6"
      }
    },
    {
      "cell_type": "code",
      "source": [
        "modelo.fit(x_t, y_t)"
      ],
      "metadata": {
        "colab": {
          "base_uri": "https://localhost:8080/"
        },
        "id": "22E4PPpQdcCF",
        "outputId": "1e2babf3-3968-4908-b5da-ec9d1b747586"
      },
      "execution_count": 38,
      "outputs": [
        {
          "output_type": "execute_result",
          "data": {
            "text/plain": [
              "KNeighborsClassifier(n_neighbors=17)"
            ]
          },
          "metadata": {},
          "execution_count": 38
        }
      ]
    },
    {
      "cell_type": "markdown",
      "source": [
        "- Aplicamos o KNN nas amostras de teste e verificando a eficácia do modelo\n"
      ],
      "metadata": {
        "id": "mHtnEU1LbQpn"
      }
    },
    {
      "cell_type": "code",
      "source": [
        "efic_modelo = modelo.score(x_v, y_v)\n",
        "print(f'A eficácia do modelo aplicado é de {round(efic_modelo, 4)*100}%')"
      ],
      "metadata": {
        "id": "n9f8NSksPvFV",
        "colab": {
          "base_uri": "https://localhost:8080/"
        },
        "outputId": "8346016a-e284-4af4-e8f5-3bd2e0da214e"
      },
      "execution_count": 39,
      "outputs": [
        {
          "output_type": "stream",
          "name": "stdout",
          "text": [
            "A eficácia do modelo aplicado é de 98.57000000000001%\n"
          ]
        }
      ]
    }
  ]
}