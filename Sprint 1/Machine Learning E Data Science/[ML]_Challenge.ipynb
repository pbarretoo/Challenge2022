{
  "nbformat": 4,
  "nbformat_minor": 0,
  "metadata": {
    "colab": {
      "name": "[ML] Challenge.ipynb",
      "provenance": []
    },
    "kernelspec": {
      "name": "python3",
      "display_name": "Python 3"
    },
    "language_info": {
      "name": "python"
    }
  },
  "cells": [
    {
      "cell_type": "code",
      "source": [
        "import pandas as pd\n",
        "import numpy as np\n",
        "import seaborn as sns\n",
        "import matplotlib.pyplot as plt\n",
        "from scipy import stats\n",
        "import random\n"
      ],
      "metadata": {
        "id": "KCiXKVfX9OyS"
      },
      "execution_count": 49,
      "outputs": []
    },
    {
      "cell_type": "code",
      "execution_count": 2,
      "metadata": {
        "colab": {
          "base_uri": "https://localhost:8080/"
        },
        "id": "h-8Eevf19LZ7",
        "outputId": "beef8e34-9f41-4f3d-fbb8-d98424fd93a7"
      },
      "outputs": [
        {
          "output_type": "stream",
          "name": "stderr",
          "text": [
            "/usr/local/lib/python3.7/dist-packages/IPython/core/interactiveshell.py:2882: DtypeWarning: Columns (15,59,61,62,63,91,93,105,107,114,116,117,118,122,143) have mixed types.Specify dtype option on import or set low_memory=False.\n",
            "  exec(code_obj, self.user_global_ns, self.user_ns)\n"
          ]
        },
        {
          "output_type": "execute_result",
          "data": {
            "text/plain": [
              "(1725842, 166)"
            ]
          },
          "metadata": {},
          "execution_count": 2
        }
      ],
      "source": [
        "df = pd.read_csv(\"https://media.githubusercontent.com/media/pbarretoo/Challenge2022/main/Referencias/INFLUD21-18-04-2022.csv\", sep=';')\n",
        "df.shape "
      ]
    },
    {
      "cell_type": "code",
      "source": [
        "df.head()"
      ],
      "metadata": {
        "colab": {
          "base_uri": "https://localhost:8080/",
          "height": 525
        },
        "id": "ZNKh3ZKfiSry",
        "outputId": "43fc425c-d6c6-4a8b-b087-550d4ac3ad26"
      },
      "execution_count": 3,
      "outputs": [
        {
          "output_type": "execute_result",
          "data": {
            "text/plain": [
              "   DT_NOTIFIC  SEM_NOT  DT_SIN_PRI  SEM_PRI SG_UF_NOT  \\\n",
              "0  08/01/2021        1  06/01/2021        1        SP   \n",
              "1  11/01/2021        2  10/01/2021        2        PR   \n",
              "2  13/01/2021        2  03/01/2021        1        SP   \n",
              "3  08/01/2021        1  04/01/2021        1        RS   \n",
              "4  10/01/2021        2  07/01/2021        1        AM   \n",
              "\n",
              "                      ID_REGIONA  CO_REGIONA   ID_MUNICIP  CO_MUN_NOT  \\\n",
              "0       GVE VIII MOGI DAS CRUZES      1333.0    GUARULHOS      351880   \n",
              "1                  17RS LONDRINA      1371.0     LONDRINA      411370   \n",
              "2                  GVE I CAPITAL      1331.0    SAO PAULO      355030   \n",
              "3                        006 CRS      1611.0  PASSO FUNDO      431410   \n",
              "4  ENTORNO DE MANAUS E RIO NEGRO      5584.0       MANAUS      130260   \n",
              "\n",
              "                                          ID_UNIDADE  ...  DOSE_2_COV  \\\n",
              "0                                 HOSPITAL BOM CLIMA  ...         NaN   \n",
              "1  HOSPITAL UNIVERSITARIO REGIONAL DO NORTE DO PA...  ...         NaN   \n",
              "2                        HOSPITAL SAO CAMILO POMPEIA  ...         NaN   \n",
              "3                      HOSPITAL SAO VICENTE DE PAULO  ...         NaN   \n",
              "4                      MATERNIDADE BALBINA MESTRINHO  ...         NaN   \n",
              "\n",
              "  DOSE_REF FAB_COV_1  FAB_COV_2  FAB_COVREF LOTE_REF  LAB_PR_COV  LOTE_1_COV  \\\n",
              "0      NaN       NaN        NaN         NaN      NaN         NaN         NaN   \n",
              "1      NaN       NaN        NaN         NaN      NaN         NaN         NaN   \n",
              "2      NaN       NaN        NaN         NaN      NaN         NaN         NaN   \n",
              "3      NaN       NaN        NaN         NaN      NaN         NaN         NaN   \n",
              "4      NaN       NaN        NaN         NaN      NaN         NaN         NaN   \n",
              "\n",
              "   LOTE_2_COV FNT_IN_COV  \n",
              "0         NaN        NaN  \n",
              "1         NaN        NaN  \n",
              "2         NaN        NaN  \n",
              "3         NaN        NaN  \n",
              "4         NaN        NaN  \n",
              "\n",
              "[5 rows x 166 columns]"
            ],
            "text/html": [
              "\n",
              "  <div id=\"df-64f4877b-e84c-4638-be59-4d64c2cfd42e\">\n",
              "    <div class=\"colab-df-container\">\n",
              "      <div>\n",
              "<style scoped>\n",
              "    .dataframe tbody tr th:only-of-type {\n",
              "        vertical-align: middle;\n",
              "    }\n",
              "\n",
              "    .dataframe tbody tr th {\n",
              "        vertical-align: top;\n",
              "    }\n",
              "\n",
              "    .dataframe thead th {\n",
              "        text-align: right;\n",
              "    }\n",
              "</style>\n",
              "<table border=\"1\" class=\"dataframe\">\n",
              "  <thead>\n",
              "    <tr style=\"text-align: right;\">\n",
              "      <th></th>\n",
              "      <th>DT_NOTIFIC</th>\n",
              "      <th>SEM_NOT</th>\n",
              "      <th>DT_SIN_PRI</th>\n",
              "      <th>SEM_PRI</th>\n",
              "      <th>SG_UF_NOT</th>\n",
              "      <th>ID_REGIONA</th>\n",
              "      <th>CO_REGIONA</th>\n",
              "      <th>ID_MUNICIP</th>\n",
              "      <th>CO_MUN_NOT</th>\n",
              "      <th>ID_UNIDADE</th>\n",
              "      <th>...</th>\n",
              "      <th>DOSE_2_COV</th>\n",
              "      <th>DOSE_REF</th>\n",
              "      <th>FAB_COV_1</th>\n",
              "      <th>FAB_COV_2</th>\n",
              "      <th>FAB_COVREF</th>\n",
              "      <th>LOTE_REF</th>\n",
              "      <th>LAB_PR_COV</th>\n",
              "      <th>LOTE_1_COV</th>\n",
              "      <th>LOTE_2_COV</th>\n",
              "      <th>FNT_IN_COV</th>\n",
              "    </tr>\n",
              "  </thead>\n",
              "  <tbody>\n",
              "    <tr>\n",
              "      <th>0</th>\n",
              "      <td>08/01/2021</td>\n",
              "      <td>1</td>\n",
              "      <td>06/01/2021</td>\n",
              "      <td>1</td>\n",
              "      <td>SP</td>\n",
              "      <td>GVE VIII MOGI DAS CRUZES</td>\n",
              "      <td>1333.0</td>\n",
              "      <td>GUARULHOS</td>\n",
              "      <td>351880</td>\n",
              "      <td>HOSPITAL BOM CLIMA</td>\n",
              "      <td>...</td>\n",
              "      <td>NaN</td>\n",
              "      <td>NaN</td>\n",
              "      <td>NaN</td>\n",
              "      <td>NaN</td>\n",
              "      <td>NaN</td>\n",
              "      <td>NaN</td>\n",
              "      <td>NaN</td>\n",
              "      <td>NaN</td>\n",
              "      <td>NaN</td>\n",
              "      <td>NaN</td>\n",
              "    </tr>\n",
              "    <tr>\n",
              "      <th>1</th>\n",
              "      <td>11/01/2021</td>\n",
              "      <td>2</td>\n",
              "      <td>10/01/2021</td>\n",
              "      <td>2</td>\n",
              "      <td>PR</td>\n",
              "      <td>17RS LONDRINA</td>\n",
              "      <td>1371.0</td>\n",
              "      <td>LONDRINA</td>\n",
              "      <td>411370</td>\n",
              "      <td>HOSPITAL UNIVERSITARIO REGIONAL DO NORTE DO PA...</td>\n",
              "      <td>...</td>\n",
              "      <td>NaN</td>\n",
              "      <td>NaN</td>\n",
              "      <td>NaN</td>\n",
              "      <td>NaN</td>\n",
              "      <td>NaN</td>\n",
              "      <td>NaN</td>\n",
              "      <td>NaN</td>\n",
              "      <td>NaN</td>\n",
              "      <td>NaN</td>\n",
              "      <td>NaN</td>\n",
              "    </tr>\n",
              "    <tr>\n",
              "      <th>2</th>\n",
              "      <td>13/01/2021</td>\n",
              "      <td>2</td>\n",
              "      <td>03/01/2021</td>\n",
              "      <td>1</td>\n",
              "      <td>SP</td>\n",
              "      <td>GVE I CAPITAL</td>\n",
              "      <td>1331.0</td>\n",
              "      <td>SAO PAULO</td>\n",
              "      <td>355030</td>\n",
              "      <td>HOSPITAL SAO CAMILO POMPEIA</td>\n",
              "      <td>...</td>\n",
              "      <td>NaN</td>\n",
              "      <td>NaN</td>\n",
              "      <td>NaN</td>\n",
              "      <td>NaN</td>\n",
              "      <td>NaN</td>\n",
              "      <td>NaN</td>\n",
              "      <td>NaN</td>\n",
              "      <td>NaN</td>\n",
              "      <td>NaN</td>\n",
              "      <td>NaN</td>\n",
              "    </tr>\n",
              "    <tr>\n",
              "      <th>3</th>\n",
              "      <td>08/01/2021</td>\n",
              "      <td>1</td>\n",
              "      <td>04/01/2021</td>\n",
              "      <td>1</td>\n",
              "      <td>RS</td>\n",
              "      <td>006 CRS</td>\n",
              "      <td>1611.0</td>\n",
              "      <td>PASSO FUNDO</td>\n",
              "      <td>431410</td>\n",
              "      <td>HOSPITAL SAO VICENTE DE PAULO</td>\n",
              "      <td>...</td>\n",
              "      <td>NaN</td>\n",
              "      <td>NaN</td>\n",
              "      <td>NaN</td>\n",
              "      <td>NaN</td>\n",
              "      <td>NaN</td>\n",
              "      <td>NaN</td>\n",
              "      <td>NaN</td>\n",
              "      <td>NaN</td>\n",
              "      <td>NaN</td>\n",
              "      <td>NaN</td>\n",
              "    </tr>\n",
              "    <tr>\n",
              "      <th>4</th>\n",
              "      <td>10/01/2021</td>\n",
              "      <td>2</td>\n",
              "      <td>07/01/2021</td>\n",
              "      <td>1</td>\n",
              "      <td>AM</td>\n",
              "      <td>ENTORNO DE MANAUS E RIO NEGRO</td>\n",
              "      <td>5584.0</td>\n",
              "      <td>MANAUS</td>\n",
              "      <td>130260</td>\n",
              "      <td>MATERNIDADE BALBINA MESTRINHO</td>\n",
              "      <td>...</td>\n",
              "      <td>NaN</td>\n",
              "      <td>NaN</td>\n",
              "      <td>NaN</td>\n",
              "      <td>NaN</td>\n",
              "      <td>NaN</td>\n",
              "      <td>NaN</td>\n",
              "      <td>NaN</td>\n",
              "      <td>NaN</td>\n",
              "      <td>NaN</td>\n",
              "      <td>NaN</td>\n",
              "    </tr>\n",
              "  </tbody>\n",
              "</table>\n",
              "<p>5 rows × 166 columns</p>\n",
              "</div>\n",
              "      <button class=\"colab-df-convert\" onclick=\"convertToInteractive('df-64f4877b-e84c-4638-be59-4d64c2cfd42e')\"\n",
              "              title=\"Convert this dataframe to an interactive table.\"\n",
              "              style=\"display:none;\">\n",
              "        \n",
              "  <svg xmlns=\"http://www.w3.org/2000/svg\" height=\"24px\"viewBox=\"0 0 24 24\"\n",
              "       width=\"24px\">\n",
              "    <path d=\"M0 0h24v24H0V0z\" fill=\"none\"/>\n",
              "    <path d=\"M18.56 5.44l.94 2.06.94-2.06 2.06-.94-2.06-.94-.94-2.06-.94 2.06-2.06.94zm-11 1L8.5 8.5l.94-2.06 2.06-.94-2.06-.94L8.5 2.5l-.94 2.06-2.06.94zm10 10l.94 2.06.94-2.06 2.06-.94-2.06-.94-.94-2.06-.94 2.06-2.06.94z\"/><path d=\"M17.41 7.96l-1.37-1.37c-.4-.4-.92-.59-1.43-.59-.52 0-1.04.2-1.43.59L10.3 9.45l-7.72 7.72c-.78.78-.78 2.05 0 2.83L4 21.41c.39.39.9.59 1.41.59.51 0 1.02-.2 1.41-.59l7.78-7.78 2.81-2.81c.8-.78.8-2.07 0-2.86zM5.41 20L4 18.59l7.72-7.72 1.47 1.35L5.41 20z\"/>\n",
              "  </svg>\n",
              "      </button>\n",
              "      \n",
              "  <style>\n",
              "    .colab-df-container {\n",
              "      display:flex;\n",
              "      flex-wrap:wrap;\n",
              "      gap: 12px;\n",
              "    }\n",
              "\n",
              "    .colab-df-convert {\n",
              "      background-color: #E8F0FE;\n",
              "      border: none;\n",
              "      border-radius: 50%;\n",
              "      cursor: pointer;\n",
              "      display: none;\n",
              "      fill: #1967D2;\n",
              "      height: 32px;\n",
              "      padding: 0 0 0 0;\n",
              "      width: 32px;\n",
              "    }\n",
              "\n",
              "    .colab-df-convert:hover {\n",
              "      background-color: #E2EBFA;\n",
              "      box-shadow: 0px 1px 2px rgba(60, 64, 67, 0.3), 0px 1px 3px 1px rgba(60, 64, 67, 0.15);\n",
              "      fill: #174EA6;\n",
              "    }\n",
              "\n",
              "    [theme=dark] .colab-df-convert {\n",
              "      background-color: #3B4455;\n",
              "      fill: #D2E3FC;\n",
              "    }\n",
              "\n",
              "    [theme=dark] .colab-df-convert:hover {\n",
              "      background-color: #434B5C;\n",
              "      box-shadow: 0px 1px 3px 1px rgba(0, 0, 0, 0.15);\n",
              "      filter: drop-shadow(0px 1px 2px rgba(0, 0, 0, 0.3));\n",
              "      fill: #FFFFFF;\n",
              "    }\n",
              "  </style>\n",
              "\n",
              "      <script>\n",
              "        const buttonEl =\n",
              "          document.querySelector('#df-64f4877b-e84c-4638-be59-4d64c2cfd42e button.colab-df-convert');\n",
              "        buttonEl.style.display =\n",
              "          google.colab.kernel.accessAllowed ? 'block' : 'none';\n",
              "\n",
              "        async function convertToInteractive(key) {\n",
              "          const element = document.querySelector('#df-64f4877b-e84c-4638-be59-4d64c2cfd42e');\n",
              "          const dataTable =\n",
              "            await google.colab.kernel.invokeFunction('convertToInteractive',\n",
              "                                                     [key], {});\n",
              "          if (!dataTable) return;\n",
              "\n",
              "          const docLinkHtml = 'Like what you see? Visit the ' +\n",
              "            '<a target=\"_blank\" href=https://colab.research.google.com/notebooks/data_table.ipynb>data table notebook</a>'\n",
              "            + ' to learn more about interactive tables.';\n",
              "          element.innerHTML = '';\n",
              "          dataTable['output_type'] = 'display_data';\n",
              "          await google.colab.output.renderOutput(dataTable, element);\n",
              "          const docLink = document.createElement('div');\n",
              "          docLink.innerHTML = docLinkHtml;\n",
              "          element.appendChild(docLink);\n",
              "        }\n",
              "      </script>\n",
              "    </div>\n",
              "  </div>\n",
              "  "
            ]
          },
          "metadata": {},
          "execution_count": 3
        }
      ]
    },
    {
      "cell_type": "markdown",
      "source": [
        "- Fizemos a separação da coluna de data para fazer o agrupamento na parte da análise"
      ],
      "metadata": {
        "id": "lxQRuXGks00q"
      }
    },
    {
      "cell_type": "code",
      "source": [
        "df[['DIA', 'MES', 'ANO']] = df['DT_NOTIFIC'].str.split('/', expand=True)"
      ],
      "metadata": {
        "id": "vY5Q6TKPkhcU"
      },
      "execution_count": 4,
      "outputs": []
    },
    {
      "cell_type": "markdown",
      "source": [
        "- Filtramos o estado de São Paulo e o ano de 2021 para conseguirmos entender os dados relacionados ao ano da criação das vacinas no estado de SP"
      ],
      "metadata": {
        "id": "yD8C9MDPue9b"
      }
    },
    {
      "cell_type": "code",
      "source": [
        "df_sp = df[(df['ID_MUNICIP'] == 'SAO PAULO') & (df['ANO'] == '2021')]\n",
        "df_sp.shape"
      ],
      "metadata": {
        "id": "gUyJCclg9O2V",
        "colab": {
          "base_uri": "https://localhost:8080/"
        },
        "outputId": "baa10792-7205-4bad-f242-dea9d47c5c51"
      },
      "execution_count": 5,
      "outputs": [
        {
          "output_type": "execute_result",
          "data": {
            "text/plain": [
              "(148654, 169)"
            ]
          },
          "metadata": {},
          "execution_count": 5
        }
      ]
    },
    {
      "cell_type": "markdown",
      "source": [
        "Dicionário dos numeros obtidos na feature CLASSI_FIN:\n",
        "1. SRAG por influenza\n",
        "2. SRAG por outro vírus respiratório\n",
        "3. SRAG por outro agente etiológico, qual:\n",
        "4. SRAG não especificado\n",
        "5. SRAG por covid-19\n",
        "\n",
        "\n",
        "\n"
      ],
      "metadata": {
        "id": "ARGZVJIoD31G"
      }
    },
    {
      "cell_type": "code",
      "source": [
        "df_sp[['CLASSI_FIN']].value_counts().plot(kind='bar')\n",
        "plt.xlabel (\"Tipo Doença\") \n",
        "plt. ylabel (\"Numero de casos\") \n",
        "plt.title (\"Enfermidades em São Paulo\")\n",
        "plt.show()"
      ],
      "metadata": {
        "colab": {
          "base_uri": "https://localhost:8080/",
          "height": 312
        },
        "id": "Sd3O_ECkDuee",
        "outputId": "dcb07d6f-e977-415d-b6a7-6fe044bfbeaf"
      },
      "execution_count": 6,
      "outputs": [
        {
          "output_type": "display_data",
          "data": {
            "text/plain": [
              "<Figure size 432x288 with 1 Axes>"
            ],
            "image/png": "[encoded data removed]"
          },
          "metadata": {
            "needs_background": "light"
          }
        }
      ]
    },
    {
      "cell_type": "markdown",
      "source": [
        "- Verificamos a quantidade de pessoas que contrairam a enfermidade 5 (Covid)"
      ],
      "metadata": {
        "id": "s6JKz0FN0uO7"
      }
    },
    {
      "cell_type": "code",
      "source": [
        "df_covid_sp = df_sp[df_sp['CLASSI_FIN'] == 5]\n",
        "df_covid_sp.shape"
      ],
      "metadata": {
        "id": "jO-PsGIS9O5_",
        "colab": {
          "base_uri": "https://localhost:8080/"
        },
        "outputId": "afdf043c-5ef4-479c-d4d6-bed8cc294b68"
      },
      "execution_count": 7,
      "outputs": [
        {
          "output_type": "execute_result",
          "data": {
            "text/plain": [
              "(99949, 169)"
            ]
          },
          "metadata": {},
          "execution_count": 7
        }
      ]
    },
    {
      "cell_type": "markdown",
      "source": [
        "- Verificamos a porcentagem dos casos registrados em São Paulo que testaram positivo para o Covid\n"
      ],
      "metadata": {
        "id": "pxvSd0PF06TQ"
      }
    },
    {
      "cell_type": "code",
      "source": [
        "porcentagem = df_covid_sp.shape[0]/df_sp.shape[0]\n",
        "print(f'A porcentagem de doenças respiratórias registradas em 2021 em São Paulo com positivo para covid é de {round((porcentagem * 100),2)}%')"
      ],
      "metadata": {
        "colab": {
          "base_uri": "https://localhost:8080/"
        },
        "id": "BCKz8nR0CBkq",
        "outputId": "080edaad-9308-45d5-bd36-4f542708041c"
      },
      "execution_count": 8,
      "outputs": [
        {
          "output_type": "stream",
          "name": "stdout",
          "text": [
            "A porcentagem de doenças respiratórias registradas em 2021 em São Paulo com positivo para covid é de 67.24%\n"
          ]
        }
      ]
    },
    {
      "cell_type": "markdown",
      "source": [
        "- Separamos sintomas do covid para analisar qual é o mais comum"
      ],
      "metadata": {
        "id": "Kc0fN2QR1IsD"
      }
    },
    {
      "cell_type": "code",
      "source": [
        "lista_sintomas = 'FEBRE TOSSE GARGANTA DIARREIA VOMITO FADIGA DOR_ABD'.split()"
      ],
      "metadata": {
        "id": "ZwNAnJN2CBpF"
      },
      "execution_count": 9,
      "outputs": []
    },
    {
      "cell_type": "code",
      "source": [
        "df_sintomas = df_covid_sp.loc[:, lista_sintomas]"
      ],
      "metadata": {
        "id": "4dQYIg35CBtP"
      },
      "execution_count": 10,
      "outputs": []
    },
    {
      "cell_type": "code",
      "source": [
        "dc_count = {}\n",
        "for feature in lista_sintomas:\n",
        "  dc_count[feature] = list(df_sintomas[feature].value_counts())[0]\n",
        "dc_count"
      ],
      "metadata": {
        "colab": {
          "base_uri": "https://localhost:8080/"
        },
        "id": "0EAOhXZsCBxD",
        "outputId": "6ee3752e-bdab-4d4c-e9bc-9b82f8c610eb"
      },
      "execution_count": 11,
      "outputs": [
        {
          "output_type": "execute_result",
          "data": {
            "text/plain": [
              "{'DIARREIA': 39808,\n",
              " 'DOR_ABD': 41292,\n",
              " 'FADIGA': 28296,\n",
              " 'FEBRE': 52318,\n",
              " 'GARGANTA': 37848,\n",
              " 'TOSSE': 65282,\n",
              " 'VOMITO': 41537}"
            ]
          },
          "metadata": {},
          "execution_count": 11
        }
      ]
    },
    {
      "cell_type": "code",
      "source": [
        "df_count = pd.DataFrame(dc_count.items(), columns=['Sintoma', 'Contagem']).sort_values('Contagem', ascending=False)\n",
        "df_count"
      ],
      "metadata": {
        "colab": {
          "base_uri": "https://localhost:8080/",
          "height": 269
        },
        "id": "aqcQalEAPDRq",
        "outputId": "58af87f5-696d-42bf-90cb-cf066a9683ec"
      },
      "execution_count": 12,
      "outputs": [
        {
          "output_type": "execute_result",
          "data": {
            "text/plain": [
              "    Sintoma  Contagem\n",
              "1     TOSSE     65282\n",
              "0     FEBRE     52318\n",
              "4    VOMITO     41537\n",
              "6   DOR_ABD     41292\n",
              "3  DIARREIA     39808\n",
              "2  GARGANTA     37848\n",
              "5    FADIGA     28296"
            ],
            "text/html": [
              "\n",
              "  <div id=\"df-a36c8682-3917-44fe-99af-becc8a648065\">\n",
              "    <div class=\"colab-df-container\">\n",
              "      <div>\n",
              "<style scoped>\n",
              "    .dataframe tbody tr th:only-of-type {\n",
              "        vertical-align: middle;\n",
              "    }\n",
              "\n",
              "    .dataframe tbody tr th {\n",
              "        vertical-align: top;\n",
              "    }\n",
              "\n",
              "    .dataframe thead th {\n",
              "        text-align: right;\n",
              "    }\n",
              "</style>\n",
              "<table border=\"1\" class=\"dataframe\">\n",
              "  <thead>\n",
              "    <tr style=\"text-align: right;\">\n",
              "      <th></th>\n",
              "      <th>Sintoma</th>\n",
              "      <th>Contagem</th>\n",
              "    </tr>\n",
              "  </thead>\n",
              "  <tbody>\n",
              "    <tr>\n",
              "      <th>1</th>\n",
              "      <td>TOSSE</td>\n",
              "      <td>65282</td>\n",
              "    </tr>\n",
              "    <tr>\n",
              "      <th>0</th>\n",
              "      <td>FEBRE</td>\n",
              "      <td>52318</td>\n",
              "    </tr>\n",
              "    <tr>\n",
              "      <th>4</th>\n",
              "      <td>VOMITO</td>\n",
              "      <td>41537</td>\n",
              "    </tr>\n",
              "    <tr>\n",
              "      <th>6</th>\n",
              "      <td>DOR_ABD</td>\n",
              "      <td>41292</td>\n",
              "    </tr>\n",
              "    <tr>\n",
              "      <th>3</th>\n",
              "      <td>DIARREIA</td>\n",
              "      <td>39808</td>\n",
              "    </tr>\n",
              "    <tr>\n",
              "      <th>2</th>\n",
              "      <td>GARGANTA</td>\n",
              "      <td>37848</td>\n",
              "    </tr>\n",
              "    <tr>\n",
              "      <th>5</th>\n",
              "      <td>FADIGA</td>\n",
              "      <td>28296</td>\n",
              "    </tr>\n",
              "  </tbody>\n",
              "</table>\n",
              "</div>\n",
              "      <button class=\"colab-df-convert\" onclick=\"convertToInteractive('df-a36c8682-3917-44fe-99af-becc8a648065')\"\n",
              "              title=\"Convert this dataframe to an interactive table.\"\n",
              "              style=\"display:none;\">\n",
              "        \n",
              "  <svg xmlns=\"http://www.w3.org/2000/svg\" height=\"24px\"viewBox=\"0 0 24 24\"\n",
              "       width=\"24px\">\n",
              "    <path d=\"M0 0h24v24H0V0z\" fill=\"none\"/>\n",
              "    <path d=\"M18.56 5.44l.94 2.06.94-2.06 2.06-.94-2.06-.94-.94-2.06-.94 2.06-2.06.94zm-11 1L8.5 8.5l.94-2.06 2.06-.94-2.06-.94L8.5 2.5l-.94 2.06-2.06.94zm10 10l.94 2.06.94-2.06 2.06-.94-2.06-.94-.94-2.06-.94 2.06-2.06.94z\"/><path d=\"M17.41 7.96l-1.37-1.37c-.4-.4-.92-.59-1.43-.59-.52 0-1.04.2-1.43.59L10.3 9.45l-7.72 7.72c-.78.78-.78 2.05 0 2.83L4 21.41c.39.39.9.59 1.41.59.51 0 1.02-.2 1.41-.59l7.78-7.78 2.81-2.81c.8-.78.8-2.07 0-2.86zM5.41 20L4 18.59l7.72-7.72 1.47 1.35L5.41 20z\"/>\n",
              "  </svg>\n",
              "      </button>\n",
              "      \n",
              "  <style>\n",
              "    .colab-df-container {\n",
              "      display:flex;\n",
              "      flex-wrap:wrap;\n",
              "      gap: 12px;\n",
              "    }\n",
              "\n",
              "    .colab-df-convert {\n",
              "      background-color: #E8F0FE;\n",
              "      border: none;\n",
              "      border-radius: 50%;\n",
              "      cursor: pointer;\n",
              "      display: none;\n",
              "      fill: #1967D2;\n",
              "      height: 32px;\n",
              "      padding: 0 0 0 0;\n",
              "      width: 32px;\n",
              "    }\n",
              "\n",
              "    .colab-df-convert:hover {\n",
              "      background-color: #E2EBFA;\n",
              "      box-shadow: 0px 1px 2px rgba(60, 64, 67, 0.3), 0px 1px 3px 1px rgba(60, 64, 67, 0.15);\n",
              "      fill: #174EA6;\n",
              "    }\n",
              "\n",
              "    [theme=dark] .colab-df-convert {\n",
              "      background-color: #3B4455;\n",
              "      fill: #D2E3FC;\n",
              "    }\n",
              "\n",
              "    [theme=dark] .colab-df-convert:hover {\n",
              "      background-color: #434B5C;\n",
              "      box-shadow: 0px 1px 3px 1px rgba(0, 0, 0, 0.15);\n",
              "      filter: drop-shadow(0px 1px 2px rgba(0, 0, 0, 0.3));\n",
              "      fill: #FFFFFF;\n",
              "    }\n",
              "  </style>\n",
              "\n",
              "      <script>\n",
              "        const buttonEl =\n",
              "          document.querySelector('#df-a36c8682-3917-44fe-99af-becc8a648065 button.colab-df-convert');\n",
              "        buttonEl.style.display =\n",
              "          google.colab.kernel.accessAllowed ? 'block' : 'none';\n",
              "\n",
              "        async function convertToInteractive(key) {\n",
              "          const element = document.querySelector('#df-a36c8682-3917-44fe-99af-becc8a648065');\n",
              "          const dataTable =\n",
              "            await google.colab.kernel.invokeFunction('convertToInteractive',\n",
              "                                                     [key], {});\n",
              "          if (!dataTable) return;\n",
              "\n",
              "          const docLinkHtml = 'Like what you see? Visit the ' +\n",
              "            '<a target=\"_blank\" href=https://colab.research.google.com/notebooks/data_table.ipynb>data table notebook</a>'\n",
              "            + ' to learn more about interactive tables.';\n",
              "          element.innerHTML = '';\n",
              "          dataTable['output_type'] = 'display_data';\n",
              "          await google.colab.output.renderOutput(dataTable, element);\n",
              "          const docLink = document.createElement('div');\n",
              "          docLink.innerHTML = docLinkHtml;\n",
              "          element.appendChild(docLink);\n",
              "        }\n",
              "      </script>\n",
              "    </div>\n",
              "  </div>\n",
              "  "
            ]
          },
          "metadata": {},
          "execution_count": 12
        }
      ]
    },
    {
      "cell_type": "markdown",
      "source": [
        "- Ao plotarmos os dados obtidos, observa-se que o sintoma mais comum é a tosse seguida da febre."
      ],
      "metadata": {
        "id": "pz-riejH1zYg"
      }
    },
    {
      "cell_type": "code",
      "source": [
        "plt.bar(df_count['Sintoma'], df_count['Contagem'])\n",
        "plt.xticks(rotation=45)\n",
        "plt.xlabel (\"Sintomas\") \n",
        "plt. ylabel (\"Numero de casos\") \n",
        "plt.title (\"Sintomas Covid-19 mais comuns\")\n",
        "plt.show()"
      ],
      "metadata": {
        "colab": {
          "base_uri": "https://localhost:8080/",
          "height": 332
        },
        "id": "ETY0Z0TjM4hU",
        "outputId": "5f72bf26-8909-4bad-8fc1-1bec4fbfea30"
      },
      "execution_count": 13,
      "outputs": [
        {
          "output_type": "display_data",
          "data": {
            "text/plain": [
              "<Figure size 432x288 with 1 Axes>"
            ],
            "image/png": "[encoded data removed]"
          },
          "metadata": {
            "needs_background": "light"
          }
        }
      ]
    },
    {
      "cell_type": "code",
      "source": [
        "df_covid_sp.shape"
      ],
      "metadata": {
        "colab": {
          "base_uri": "https://localhost:8080/"
        },
        "id": "R4UHSlG-cdw0",
        "outputId": "88c370cb-76e7-4676-fcc1-f9572f534689"
      },
      "execution_count": 14,
      "outputs": [
        {
          "output_type": "execute_result",
          "data": {
            "text/plain": [
              "(99949, 169)"
            ]
          },
          "metadata": {},
          "execution_count": 14
        }
      ]
    },
    {
      "cell_type": "code",
      "source": [
        "df_sp['DOSE_1_COV'].count()"
      ],
      "metadata": {
        "colab": {
          "base_uri": "https://localhost:8080/"
        },
        "id": "IXFCTrW2Auj8",
        "outputId": "d42a32fb-27b1-4a80-f0b9-3cc6d345e642"
      },
      "execution_count": 15,
      "outputs": [
        {
          "output_type": "execute_result",
          "data": {
            "text/plain": [
              "24716"
            ]
          },
          "metadata": {},
          "execution_count": 15
        }
      ]
    },
    {
      "cell_type": "code",
      "source": [
        "df_covid_sp['DOSE_1_COV'].count()"
      ],
      "metadata": {
        "colab": {
          "base_uri": "https://localhost:8080/"
        },
        "id": "xU9RvN0DbtvW",
        "outputId": "5915350a-30ac-41e6-f62a-f940e6a3af30"
      },
      "execution_count": 16,
      "outputs": [
        {
          "output_type": "execute_result",
          "data": {
            "text/plain": [
              "16273"
            ]
          },
          "metadata": {},
          "execution_count": 16
        }
      ]
    },
    {
      "cell_type": "code",
      "source": [
        "df_sp['DOSE_2_COV'].count()"
      ],
      "metadata": {
        "colab": {
          "base_uri": "https://localhost:8080/"
        },
        "id": "aAQ7uZjXAuob",
        "outputId": "df350e68-e8a6-41bf-cf48-a8bf9d8b9319"
      },
      "execution_count": 17,
      "outputs": [
        {
          "output_type": "execute_result",
          "data": {
            "text/plain": [
              "16589"
            ]
          },
          "metadata": {},
          "execution_count": 17
        }
      ]
    },
    {
      "cell_type": "code",
      "source": [
        "df_covid_sp['DOSE_2_COV'].count()"
      ],
      "metadata": {
        "colab": {
          "base_uri": "https://localhost:8080/"
        },
        "id": "dsF8s-OrAus4",
        "outputId": "d90a2bdd-7e9e-4881-cb34-d9c20b81f76d"
      },
      "execution_count": 18,
      "outputs": [
        {
          "output_type": "execute_result",
          "data": {
            "text/plain": [
              "9950"
            ]
          },
          "metadata": {},
          "execution_count": 18
        }
      ]
    },
    {
      "cell_type": "code",
      "source": [
        "df_casos_mes = df_covid_sp.groupby('MES').agg(Contagem_Casos = pd.NamedAgg('CLASSI_FIN', 'count')).reset_index()"
      ],
      "metadata": {
        "id": "ZnUvrPTAAuxi"
      },
      "execution_count": 19,
      "outputs": []
    },
    {
      "cell_type": "markdown",
      "source": [
        "- Plotamos a contagem de casos por mes para observar se houve algum evento que afetou o numero de casos."
      ],
      "metadata": {
        "id": "GmiSriSzw4de"
      }
    },
    {
      "cell_type": "code",
      "source": [
        "plt.plot(df_casos_mes['MES'], df_casos_mes['Contagem_Casos'], 'o-r')\n",
        "plt.xlabel (\"Tempo (meses)\") \n",
        "plt. ylabel (\"Numero de casos positivos\") \n",
        "plt.title (\"Casos de Covid em 2021\")\n",
        "plt.show()"
      ],
      "metadata": {
        "id": "48SqyqBs9O9X",
        "colab": {
          "base_uri": "https://localhost:8080/",
          "height": 295
        },
        "outputId": "ccd8f3ba-8772-426b-be98-05542a5741a1"
      },
      "execution_count": 20,
      "outputs": [
        {
          "output_type": "display_data",
          "data": {
            "text/plain": [
              "<Figure size 432x288 with 1 Axes>"
            ],
            "image/png": "[encoded data removed]"
          },
          "metadata": {
            "needs_background": "light"
          }
        }
      ]
    },
    {
      "cell_type": "markdown",
      "source": [
        "- Observamos que houve um aumento considerável dos casos de covid no mes de março/Abril provavelmente devido a proximidade com o Carnaval, que mesmo sendo cancelado foi comemorado por diversos paulistanos. E nos meses seguintes houve uma baixa nos casos devido as vacinas que começaram a ser aplicadas em ampla escala."
      ],
      "metadata": {
        "id": "vXG5_08DqwIT"
      }
    },
    {
      "cell_type": "markdown",
      "source": [
        "- Fizemos a contagem dos casos de covid juntamente com a contagem de vacinados tanto da primeira quanto da segunda dose."
      ],
      "metadata": {
        "id": "66oYJso03m1H"
      }
    },
    {
      "cell_type": "code",
      "source": [
        "df_casos_dia = df_covid_sp.groupby(['DT_NOTIFIC']).agg(Contagem_Casos = pd.NamedAgg('CLASSI_FIN', 'count'),\n",
        "                                                       Contagem_Vacinados_1 = pd.NamedAgg('DOSE_1_COV', 'count'),\n",
        "                                                       Contagem_Vacinados_2 = pd.NamedAgg('DOSE_2_COV', 'count')\n",
        "                                                       ).reset_index()\n",
        "df_casos_dia"
      ],
      "metadata": {
        "id": "xtQF3gvP9PBS",
        "colab": {
          "base_uri": "https://localhost:8080/",
          "height": 424
        },
        "outputId": "fc007d79-d17a-4c25-8d15-a42429618b34"
      },
      "execution_count": 21,
      "outputs": [
        {
          "output_type": "execute_result",
          "data": {
            "text/plain": [
              "     DT_NOTIFIC  Contagem_Casos  Contagem_Vacinados_1  Contagem_Vacinados_2\n",
              "0    01/02/2021             345                    14                    13\n",
              "1    01/03/2021             699                    49                    37\n",
              "2    01/04/2021             864                    91                    38\n",
              "3    01/05/2021             231                    50                    25\n",
              "4    01/06/2021             579                   112                    59\n",
              "..          ...             ...                   ...                   ...\n",
              "358  31/05/2021             806                   121                    57\n",
              "359  31/07/2021              59                    18                    11\n",
              "360  31/08/2021             118                    44                    26\n",
              "361  31/10/2021              20                    14                    13\n",
              "362  31/12/2021              60                    18                    16\n",
              "\n",
              "[363 rows x 4 columns]"
            ],
            "text/html": [
              "\n",
              "  <div id=\"df-e818a777-1362-4c5d-8f69-a4cf668220ca\">\n",
              "    <div class=\"colab-df-container\">\n",
              "      <div>\n",
              "<style scoped>\n",
              "    .dataframe tbody tr th:only-of-type {\n",
              "        vertical-align: middle;\n",
              "    }\n",
              "\n",
              "    .dataframe tbody tr th {\n",
              "        vertical-align: top;\n",
              "    }\n",
              "\n",
              "    .dataframe thead th {\n",
              "        text-align: right;\n",
              "    }\n",
              "</style>\n",
              "<table border=\"1\" class=\"dataframe\">\n",
              "  <thead>\n",
              "    <tr style=\"text-align: right;\">\n",
              "      <th></th>\n",
              "      <th>DT_NOTIFIC</th>\n",
              "      <th>Contagem_Casos</th>\n",
              "      <th>Contagem_Vacinados_1</th>\n",
              "      <th>Contagem_Vacinados_2</th>\n",
              "    </tr>\n",
              "  </thead>\n",
              "  <tbody>\n",
              "    <tr>\n",
              "      <th>0</th>\n",
              "      <td>01/02/2021</td>\n",
              "      <td>345</td>\n",
              "      <td>14</td>\n",
              "      <td>13</td>\n",
              "    </tr>\n",
              "    <tr>\n",
              "      <th>1</th>\n",
              "      <td>01/03/2021</td>\n",
              "      <td>699</td>\n",
              "      <td>49</td>\n",
              "      <td>37</td>\n",
              "    </tr>\n",
              "    <tr>\n",
              "      <th>2</th>\n",
              "      <td>01/04/2021</td>\n",
              "      <td>864</td>\n",
              "      <td>91</td>\n",
              "      <td>38</td>\n",
              "    </tr>\n",
              "    <tr>\n",
              "      <th>3</th>\n",
              "      <td>01/05/2021</td>\n",
              "      <td>231</td>\n",
              "      <td>50</td>\n",
              "      <td>25</td>\n",
              "    </tr>\n",
              "    <tr>\n",
              "      <th>4</th>\n",
              "      <td>01/06/2021</td>\n",
              "      <td>579</td>\n",
              "      <td>112</td>\n",
              "      <td>59</td>\n",
              "    </tr>\n",
              "    <tr>\n",
              "      <th>...</th>\n",
              "      <td>...</td>\n",
              "      <td>...</td>\n",
              "      <td>...</td>\n",
              "      <td>...</td>\n",
              "    </tr>\n",
              "    <tr>\n",
              "      <th>358</th>\n",
              "      <td>31/05/2021</td>\n",
              "      <td>806</td>\n",
              "      <td>121</td>\n",
              "      <td>57</td>\n",
              "    </tr>\n",
              "    <tr>\n",
              "      <th>359</th>\n",
              "      <td>31/07/2021</td>\n",
              "      <td>59</td>\n",
              "      <td>18</td>\n",
              "      <td>11</td>\n",
              "    </tr>\n",
              "    <tr>\n",
              "      <th>360</th>\n",
              "      <td>31/08/2021</td>\n",
              "      <td>118</td>\n",
              "      <td>44</td>\n",
              "      <td>26</td>\n",
              "    </tr>\n",
              "    <tr>\n",
              "      <th>361</th>\n",
              "      <td>31/10/2021</td>\n",
              "      <td>20</td>\n",
              "      <td>14</td>\n",
              "      <td>13</td>\n",
              "    </tr>\n",
              "    <tr>\n",
              "      <th>362</th>\n",
              "      <td>31/12/2021</td>\n",
              "      <td>60</td>\n",
              "      <td>18</td>\n",
              "      <td>16</td>\n",
              "    </tr>\n",
              "  </tbody>\n",
              "</table>\n",
              "<p>363 rows × 4 columns</p>\n",
              "</div>\n",
              "      <button class=\"colab-df-convert\" onclick=\"convertToInteractive('df-e818a777-1362-4c5d-8f69-a4cf668220ca')\"\n",
              "              title=\"Convert this dataframe to an interactive table.\"\n",
              "              style=\"display:none;\">\n",
              "        \n",
              "  <svg xmlns=\"http://www.w3.org/2000/svg\" height=\"24px\"viewBox=\"0 0 24 24\"\n",
              "       width=\"24px\">\n",
              "    <path d=\"M0 0h24v24H0V0z\" fill=\"none\"/>\n",
              "    <path d=\"M18.56 5.44l.94 2.06.94-2.06 2.06-.94-2.06-.94-.94-2.06-.94 2.06-2.06.94zm-11 1L8.5 8.5l.94-2.06 2.06-.94-2.06-.94L8.5 2.5l-.94 2.06-2.06.94zm10 10l.94 2.06.94-2.06 2.06-.94-2.06-.94-.94-2.06-.94 2.06-2.06.94z\"/><path d=\"M17.41 7.96l-1.37-1.37c-.4-.4-.92-.59-1.43-.59-.52 0-1.04.2-1.43.59L10.3 9.45l-7.72 7.72c-.78.78-.78 2.05 0 2.83L4 21.41c.39.39.9.59 1.41.59.51 0 1.02-.2 1.41-.59l7.78-7.78 2.81-2.81c.8-.78.8-2.07 0-2.86zM5.41 20L4 18.59l7.72-7.72 1.47 1.35L5.41 20z\"/>\n",
              "  </svg>\n",
              "      </button>\n",
              "      \n",
              "  <style>\n",
              "    .colab-df-container {\n",
              "      display:flex;\n",
              "      flex-wrap:wrap;\n",
              "      gap: 12px;\n",
              "    }\n",
              "\n",
              "    .colab-df-convert {\n",
              "      background-color: #E8F0FE;\n",
              "      border: none;\n",
              "      border-radius: 50%;\n",
              "      cursor: pointer;\n",
              "      display: none;\n",
              "      fill: #1967D2;\n",
              "      height: 32px;\n",
              "      padding: 0 0 0 0;\n",
              "      width: 32px;\n",
              "    }\n",
              "\n",
              "    .colab-df-convert:hover {\n",
              "      background-color: #E2EBFA;\n",
              "      box-shadow: 0px 1px 2px rgba(60, 64, 67, 0.3), 0px 1px 3px 1px rgba(60, 64, 67, 0.15);\n",
              "      fill: #174EA6;\n",
              "    }\n",
              "\n",
              "    [theme=dark] .colab-df-convert {\n",
              "      background-color: #3B4455;\n",
              "      fill: #D2E3FC;\n",
              "    }\n",
              "\n",
              "    [theme=dark] .colab-df-convert:hover {\n",
              "      background-color: #434B5C;\n",
              "      box-shadow: 0px 1px 3px 1px rgba(0, 0, 0, 0.15);\n",
              "      filter: drop-shadow(0px 1px 2px rgba(0, 0, 0, 0.3));\n",
              "      fill: #FFFFFF;\n",
              "    }\n",
              "  </style>\n",
              "\n",
              "      <script>\n",
              "        const buttonEl =\n",
              "          document.querySelector('#df-e818a777-1362-4c5d-8f69-a4cf668220ca button.colab-df-convert');\n",
              "        buttonEl.style.display =\n",
              "          google.colab.kernel.accessAllowed ? 'block' : 'none';\n",
              "\n",
              "        async function convertToInteractive(key) {\n",
              "          const element = document.querySelector('#df-e818a777-1362-4c5d-8f69-a4cf668220ca');\n",
              "          const dataTable =\n",
              "            await google.colab.kernel.invokeFunction('convertToInteractive',\n",
              "                                                     [key], {});\n",
              "          if (!dataTable) return;\n",
              "\n",
              "          const docLinkHtml = 'Like what you see? Visit the ' +\n",
              "            '<a target=\"_blank\" href=https://colab.research.google.com/notebooks/data_table.ipynb>data table notebook</a>'\n",
              "            + ' to learn more about interactive tables.';\n",
              "          element.innerHTML = '';\n",
              "          dataTable['output_type'] = 'display_data';\n",
              "          await google.colab.output.renderOutput(dataTable, element);\n",
              "          const docLink = document.createElement('div');\n",
              "          docLink.innerHTML = docLinkHtml;\n",
              "          element.appendChild(docLink);\n",
              "        }\n",
              "      </script>\n",
              "    </div>\n",
              "  </div>\n",
              "  "
            ]
          },
          "metadata": {},
          "execution_count": 21
        }
      ]
    },
    {
      "cell_type": "markdown",
      "source": [
        "- Checamos a correlação das vacinas com os casos de covid"
      ],
      "metadata": {
        "id": "GgCP4kiJ37dB"
      }
    },
    {
      "cell_type": "code",
      "source": [
        "plt.figure(figsize=(32, 12))\n",
        "heatmap = sns.heatmap(df_casos_dia.corr(), vmin=-1, vmax=1, annot=True, cmap='BrBG')\n",
        "heatmap.set_title('Correlação Mapa de Calor', fontdict={'fontsize':18}, pad=12);\n",
        "\n",
        "# Resultados podem ser salvos para comparações\n",
        "# e análises posteriores\n",
        "plt.savefig('heatmap.png', dpi=300, bbox_inches='tight')"
      ],
      "metadata": {
        "colab": {
          "base_uri": "https://localhost:8080/",
          "height": 727
        },
        "id": "tLK4C3K_l88w",
        "outputId": "b4223e11-1689-4113-ca37-6f8d62514bb8"
      },
      "execution_count": 22,
      "outputs": [
        {
          "output_type": "display_data",
          "data": {
            "text/plain": [
              "<Figure size 2304x864 with 2 Axes>"
            ],
            "image/png": "[encoded data removed]"
          },
          "metadata": {
            "needs_background": "light"
          }
        }
      ]
    },
    {
      "cell_type": "markdown",
      "source": [
        "- A correlação entre o covid e a primeira dose é maior do que o covid com a segunda, pois as pessoas que tomaram a primeira dose não passaram pelo tempo de criação dos anticorpos, ja na segunda dose as pessoas passaram por esse tempo de criação e possuem uma correlação menor com o covid."
      ],
      "metadata": {
        "id": "adhBynqFl9DM"
      }
    }
  ]
}